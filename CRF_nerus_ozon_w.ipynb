{
 "cells": [
  {
   "cell_type": "code",
   "execution_count": null,
   "metadata": {
    "colab": {
     "base_uri": "https://localhost:8080/"
    },
    "id": "J0Q68A4YRM5I",
    "outputId": "4d69d2ce-f5f1-439f-d49c-01957dcd9912"
   },
   "outputs": [
    {
     "name": "stdout",
     "output_type": "stream",
     "text": [
      "Looking in indexes: https://pypi.org/simple, https://us-python.pkg.dev/colab-wheels/public/simple/\n",
      "Collecting nerus\n",
      "  Downloading nerus-1.7.0-py3-none-any.whl (15 kB)\n",
      "Installing collected packages: nerus\n",
      "Successfully installed nerus-1.7.0\n"
     ]
    }
   ],
   "source": [
    "!pip install nerus"
   ]
  },
  {
   "cell_type": "code",
   "execution_count": null,
   "metadata": {
    "colab": {
     "base_uri": "https://localhost:8080/"
    },
    "id": "BsOwRlAgNQkN",
    "outputId": "204d4bb4-0e64-47b3-e8be-33159ef302a4"
   },
   "outputs": [
    {
     "name": "stdout",
     "output_type": "stream",
     "text": [
      "Looking in indexes: https://pypi.org/simple, https://us-python.pkg.dev/colab-wheels/public/simple/\n",
      "Collecting sklearn_crfsuite\n",
      "  Downloading sklearn_crfsuite-0.3.6-py2.py3-none-any.whl (12 kB)\n",
      "Requirement already satisfied: tqdm>=2.0 in /usr/local/lib/python3.9/dist-packages (from sklearn_crfsuite) (4.65.0)\n",
      "Requirement already satisfied: six in /usr/local/lib/python3.9/dist-packages (from sklearn_crfsuite) (1.16.0)\n",
      "Collecting python-crfsuite>=0.8.3\n",
      "  Downloading python_crfsuite-0.9.9-cp39-cp39-manylinux_2_17_x86_64.manylinux2014_x86_64.whl (1.0 MB)\n",
      "\u001b[2K     \u001b[90m━━━━━━━━━━━━━━━━━━━━━━━━━━━━━━━━━━━━━━━━\u001b[0m \u001b[32m1.0/1.0 MB\u001b[0m \u001b[31m29.9 MB/s\u001b[0m eta \u001b[36m0:00:00\u001b[0m\n",
      "\u001b[?25hRequirement already satisfied: tabulate in /usr/local/lib/python3.9/dist-packages (from sklearn_crfsuite) (0.8.10)\n",
      "Installing collected packages: python-crfsuite, sklearn_crfsuite\n",
      "Successfully installed python-crfsuite-0.9.9 sklearn_crfsuite-0.3.6\n"
     ]
    }
   ],
   "source": [
    "!pip install sklearn_crfsuite"
   ]
  },
  {
   "cell_type": "code",
   "execution_count": null,
   "metadata": {
    "colab": {
     "base_uri": "https://localhost:8080/"
    },
    "id": "mJIk8d4_RSeZ",
    "outputId": "29db4de4-2729-427d-b8a1-a6393b8fb2e8"
   },
   "outputs": [
    {
     "name": "stderr",
     "output_type": "stream",
     "text": [
      "[nltk_data] Downloading package punkt to /root/nltk_data...\n",
      "[nltk_data]   Unzipping tokenizers/punkt.zip.\n"
     ]
    }
   ],
   "source": [
    "from nerus import load_nerus\n",
    "import sklearn_crfsuite\n",
    "from sklearn_crfsuite import metrics as crf_metrics\n",
    "#from ipymarkup import show_span_ascii_markup, show_dep_ascii_markup\n",
    "#import ru_core_news_sm\n",
    "import pandas as pd\n",
    "import numpy as np\n",
    "from tqdm import tqdm\n",
    "from nltk.tokenize import wordpunct_tokenize\n",
    "import nltk\n",
    "from sklearn.model_selection import train_test_split\n",
    "import random\n",
    "from collections import Counter\n",
    "nltk.download('punkt')\n",
    "tqdm.pandas()"
   ]
  },
  {
   "cell_type": "markdown",
   "metadata": {
    "id": "vJJiPzCufvbU"
   },
   "source": [
    "# Nerus"
   ]
  },
  {
   "cell_type": "code",
   "execution_count": null,
   "metadata": {
    "colab": {
     "base_uri": "https://localhost:8080/"
    },
    "id": "B-9VmfKATPpT",
    "outputId": "0242785c-a20f-474e-d125-632a300758b1"
   },
   "outputs": [
    {
     "name": "stdout",
     "output_type": "stream",
     "text": [
      "--2023-03-23 16:55:15--  https://storage.yandexcloud.net/natasha-nerus/data/nerus_lenta.conllu.gz\n",
      "Resolving storage.yandexcloud.net (storage.yandexcloud.net)... 213.180.193.243, 2a02:6b8::1d9\n",
      "Connecting to storage.yandexcloud.net (storage.yandexcloud.net)|213.180.193.243|:443... connected.\n",
      "HTTP request sent, awaiting response... 200 OK\n",
      "Length: 1961465886 (1.8G) [application/octet-stream]\n",
      "Saving to: ‘nerus_lenta.conllu.gz’\n",
      "\n",
      "nerus_lenta.conllu. 100%[===================>]   1.83G  23.9MB/s    in 81s     \n",
      "\n",
      "2023-03-23 16:56:37 (23.0 MB/s) - ‘nerus_lenta.conllu.gz’ saved [1961465886/1961465886]\n",
      "\n"
     ]
    }
   ],
   "source": [
    "!wget https://storage.yandexcloud.net/natasha-nerus/data/nerus_lenta.conllu.gz"
   ]
  },
  {
   "cell_type": "code",
   "execution_count": null,
   "metadata": {
    "id": "itAYRUB-RNvk"
   },
   "outputs": [],
   "source": [
    "docs = load_nerus('/content/nerus_lenta.conllu.gz')"
   ]
  },
  {
   "cell_type": "markdown",
   "metadata": {
    "id": "hGlzbiecfs1R"
   },
   "source": [
    "# Озон"
   ]
  },
  {
   "cell_type": "code",
   "execution_count": null,
   "metadata": {
    "colab": {
     "base_uri": "https://localhost:8080/"
    },
    "id": "F268NQM4Pd2M",
    "outputId": "f16c1b8a-5c59-43d1-f7c1-edbdd0655df5"
   },
   "outputs": [
    {
     "name": "stdout",
     "output_type": "stream",
     "text": [
      "--2023-03-23 16:56:37--  http://dataset_ozon.tsv/\n",
      "Resolving dataset_ozon.tsv (dataset_ozon.tsv)... failed: Name or service not known.\n",
      "wget: unable to resolve host address ‘dataset_ozon.tsv’\n",
      "--2023-03-23 16:56:37--  https://raw.githubusercontent.com/ustera/brand_ner/main/dataset_ozon.tsv\n",
      "Resolving raw.githubusercontent.com (raw.githubusercontent.com)... 185.199.111.133, 185.199.109.133, 185.199.110.133, ...\n",
      "Connecting to raw.githubusercontent.com (raw.githubusercontent.com)|185.199.111.133|:443... connected.\n",
      "HTTP request sent, awaiting response... 200 OK\n",
      "Length: 9640627 (9.2M) [text/plain]\n",
      "Saving to: ‘dataset_ozon.tsv’\n",
      "\n",
      "dataset_ozon.tsv    100%[===================>]   9.19M  --.-KB/s    in 0.03s   \n",
      "\n",
      "2023-03-23 16:56:37 (263 MB/s) - ‘dataset_ozon.tsv’ saved [9640627/9640627]\n",
      "\n",
      "FINISHED --2023-03-23 16:56:37--\n",
      "Total wall clock time: 0.2s\n",
      "Downloaded: 1 files, 9.2M in 0.03s (263 MB/s)\n"
     ]
    }
   ],
   "source": [
    "!wget dataset_ozon.tsv https://raw.githubusercontent.com/ustera/brand_ner/main/dataset_ozon.tsv"
   ]
  },
  {
   "cell_type": "code",
   "execution_count": null,
   "metadata": {
    "id": "b1NjncMg95UW"
   },
   "outputs": [],
   "source": [
    "ds = pd.read_csv('/content/dataset_ozon.tsv', sep = '\\t')\n",
    "ds = ds.drop(columns = ['Unnamed: 0'])"
   ]
  },
  {
   "cell_type": "code",
   "execution_count": null,
   "metadata": {
    "colab": {
     "base_uri": "https://localhost:8080/",
     "height": 424
    },
    "id": "0ZbSQBNBfwZB",
    "outputId": "3b47b4cd-395c-4d2f-f162-488c26cf02db"
   },
   "outputs": [
    {
     "data": {
      "text/html": [
       "\n",
       "  <div id=\"df-526f08d9-29a6-42d9-b285-4b6f5bb25b5b\">\n",
       "    <div class=\"colab-df-container\">\n",
       "      <div>\n",
       "<style scoped>\n",
       "    .dataframe tbody tr th:only-of-type {\n",
       "        vertical-align: middle;\n",
       "    }\n",
       "\n",
       "    .dataframe tbody tr th {\n",
       "        vertical-align: top;\n",
       "    }\n",
       "\n",
       "    .dataframe thead th {\n",
       "        text-align: right;\n",
       "    }\n",
       "</style>\n",
       "<table border=\"1\" class=\"dataframe\">\n",
       "  <thead>\n",
       "    <tr style=\"text-align: right;\">\n",
       "      <th></th>\n",
       "      <th>name</th>\n",
       "      <th>brand</th>\n",
       "    </tr>\n",
       "  </thead>\n",
       "  <tbody>\n",
       "    <tr>\n",
       "      <th>0</th>\n",
       "      <td>Игровая консоль PlayStation 5, белый</td>\n",
       "      <td>PlayStation</td>\n",
       "    </tr>\n",
       "    <tr>\n",
       "      <th>1</th>\n",
       "      <td>Золотой Шелк Маска для волос гиалуроновая кисл...</td>\n",
       "      <td>Золотой Шелк</td>\n",
       "    </tr>\n",
       "    <tr>\n",
       "      <th>2</th>\n",
       "      <td>Игровая консоль Microsoft Xbox Series X, черный</td>\n",
       "      <td>Microsoft</td>\n",
       "    </tr>\n",
       "    <tr>\n",
       "      <th>3</th>\n",
       "      <td>L'Oreal Paris Infaillible 24H Fresh Wear Пудра...</td>\n",
       "      <td>L'Oreal Paris</td>\n",
       "    </tr>\n",
       "    <tr>\n",
       "      <th>4</th>\n",
       "      <td>Maybelline New York Lifter Gloss Блеск для губ...</td>\n",
       "      <td>Maybelline New York</td>\n",
       "    </tr>\n",
       "    <tr>\n",
       "      <th>...</th>\n",
       "      <td>...</td>\n",
       "      <td>...</td>\n",
       "    </tr>\n",
       "    <tr>\n",
       "      <th>81774</th>\n",
       "      <td>Erborian BB Family BB карандаш, светлый, 3 г</td>\n",
       "      <td>Erborian</td>\n",
       "    </tr>\n",
       "    <tr>\n",
       "      <th>81775</th>\n",
       "      <td>Комплект модулей сменных фильтрующих Аквафор Р...</td>\n",
       "      <td>Аквафор</td>\n",
       "    </tr>\n",
       "    <tr>\n",
       "      <th>81776</th>\n",
       "      <td>Набор менструальных чаш Satisfyer Feel secure ...</td>\n",
       "      <td>Satisfyer</td>\n",
       "    </tr>\n",
       "    <tr>\n",
       "      <th>81777</th>\n",
       "      <td>28048 Подстилка для надувных и каркасных бассе...</td>\n",
       "      <td>Intex</td>\n",
       "    </tr>\n",
       "    <tr>\n",
       "      <th>81778</th>\n",
       "      <td>Трусы женские befree 2116302102</td>\n",
       "      <td>befree</td>\n",
       "    </tr>\n",
       "  </tbody>\n",
       "</table>\n",
       "<p>81779 rows × 2 columns</p>\n",
       "</div>\n",
       "      <button class=\"colab-df-convert\" onclick=\"convertToInteractive('df-526f08d9-29a6-42d9-b285-4b6f5bb25b5b')\"\n",
       "              title=\"Convert this dataframe to an interactive table.\"\n",
       "              style=\"display:none;\">\n",
       "        \n",
       "  <svg xmlns=\"http://www.w3.org/2000/svg\" height=\"24px\"viewBox=\"0 0 24 24\"\n",
       "       width=\"24px\">\n",
       "    <path d=\"M0 0h24v24H0V0z\" fill=\"none\"/>\n",
       "    <path d=\"M18.56 5.44l.94 2.06.94-2.06 2.06-.94-2.06-.94-.94-2.06-.94 2.06-2.06.94zm-11 1L8.5 8.5l.94-2.06 2.06-.94-2.06-.94L8.5 2.5l-.94 2.06-2.06.94zm10 10l.94 2.06.94-2.06 2.06-.94-2.06-.94-.94-2.06-.94 2.06-2.06.94z\"/><path d=\"M17.41 7.96l-1.37-1.37c-.4-.4-.92-.59-1.43-.59-.52 0-1.04.2-1.43.59L10.3 9.45l-7.72 7.72c-.78.78-.78 2.05 0 2.83L4 21.41c.39.39.9.59 1.41.59.51 0 1.02-.2 1.41-.59l7.78-7.78 2.81-2.81c.8-.78.8-2.07 0-2.86zM5.41 20L4 18.59l7.72-7.72 1.47 1.35L5.41 20z\"/>\n",
       "  </svg>\n",
       "      </button>\n",
       "      \n",
       "  <style>\n",
       "    .colab-df-container {\n",
       "      display:flex;\n",
       "      flex-wrap:wrap;\n",
       "      gap: 12px;\n",
       "    }\n",
       "\n",
       "    .colab-df-convert {\n",
       "      background-color: #E8F0FE;\n",
       "      border: none;\n",
       "      border-radius: 50%;\n",
       "      cursor: pointer;\n",
       "      display: none;\n",
       "      fill: #1967D2;\n",
       "      height: 32px;\n",
       "      padding: 0 0 0 0;\n",
       "      width: 32px;\n",
       "    }\n",
       "\n",
       "    .colab-df-convert:hover {\n",
       "      background-color: #E2EBFA;\n",
       "      box-shadow: 0px 1px 2px rgba(60, 64, 67, 0.3), 0px 1px 3px 1px rgba(60, 64, 67, 0.15);\n",
       "      fill: #174EA6;\n",
       "    }\n",
       "\n",
       "    [theme=dark] .colab-df-convert {\n",
       "      background-color: #3B4455;\n",
       "      fill: #D2E3FC;\n",
       "    }\n",
       "\n",
       "    [theme=dark] .colab-df-convert:hover {\n",
       "      background-color: #434B5C;\n",
       "      box-shadow: 0px 1px 3px 1px rgba(0, 0, 0, 0.15);\n",
       "      filter: drop-shadow(0px 1px 2px rgba(0, 0, 0, 0.3));\n",
       "      fill: #FFFFFF;\n",
       "    }\n",
       "  </style>\n",
       "\n",
       "      <script>\n",
       "        const buttonEl =\n",
       "          document.querySelector('#df-526f08d9-29a6-42d9-b285-4b6f5bb25b5b button.colab-df-convert');\n",
       "        buttonEl.style.display =\n",
       "          google.colab.kernel.accessAllowed ? 'block' : 'none';\n",
       "\n",
       "        async function convertToInteractive(key) {\n",
       "          const element = document.querySelector('#df-526f08d9-29a6-42d9-b285-4b6f5bb25b5b');\n",
       "          const dataTable =\n",
       "            await google.colab.kernel.invokeFunction('convertToInteractive',\n",
       "                                                     [key], {});\n",
       "          if (!dataTable) return;\n",
       "\n",
       "          const docLinkHtml = 'Like what you see? Visit the ' +\n",
       "            '<a target=\"_blank\" href=https://colab.research.google.com/notebooks/data_table.ipynb>data table notebook</a>'\n",
       "            + ' to learn more about interactive tables.';\n",
       "          element.innerHTML = '';\n",
       "          dataTable['output_type'] = 'display_data';\n",
       "          await google.colab.output.renderOutput(dataTable, element);\n",
       "          const docLink = document.createElement('div');\n",
       "          docLink.innerHTML = docLinkHtml;\n",
       "          element.appendChild(docLink);\n",
       "        }\n",
       "      </script>\n",
       "    </div>\n",
       "  </div>\n",
       "  "
      ],
      "text/plain": [
       "                                                    name                brand\n",
       "0                   Игровая консоль PlayStation 5, белый          PlayStation\n",
       "1      Золотой Шелк Маска для волос гиалуроновая кисл...         Золотой Шелк\n",
       "2        Игровая консоль Microsoft Xbox Series X, черный            Microsoft\n",
       "3      L'Oreal Paris Infaillible 24H Fresh Wear Пудра...        L'Oreal Paris\n",
       "4      Maybelline New York Lifter Gloss Блеск для губ...  Maybelline New York\n",
       "...                                                  ...                  ...\n",
       "81774       Erborian BB Family BB карандаш, светлый, 3 г             Erborian\n",
       "81775  Комплект модулей сменных фильтрующих Аквафор Р...              Аквафор\n",
       "81776  Набор менструальных чаш Satisfyer Feel secure ...            Satisfyer\n",
       "81777  28048 Подстилка для надувных и каркасных бассе...                Intex\n",
       "81778                    Трусы женские befree 2116302102               befree\n",
       "\n",
       "[81779 rows x 2 columns]"
      ]
     },
     "execution_count": 8,
     "metadata": {},
     "output_type": "execute_result"
    }
   ],
   "source": [
    "ds"
   ]
  },
  {
   "cell_type": "code",
   "execution_count": null,
   "metadata": {
    "id": "OnMk6FeKRL7h"
   },
   "outputs": [],
   "source": [
    "def make_tags(n, b):\n",
    "    global tags\n",
    "    ner_tags_id = []\n",
    "    name = wordpunct_tokenize(n)\n",
    "    brand = wordpunct_tokenize(b)\n",
    "    results=[]\n",
    "    sll=len(brand)\n",
    "    for ind in (i for i,e in enumerate(name) if e==brand[0]):\n",
    "        if name[ind:ind+sll]==brand:\n",
    "            results.append((ind,ind+sll-1))\n",
    "    if results != []:\n",
    "      ner_tags_labels = ['O'] * len(name)  \n",
    "      ner_tags_id = [0] * len(name)     \n",
    "      for result in results:\n",
    "          if result[0] == result[1]:\n",
    "              ner_tags_labels[result[0]] = 'B-BRAND'\n",
    "              ner_tags_id[result[0]] = 1\n",
    "          else:\n",
    "            ner_tags_labels[result[0]] = 'B-BRAND'\n",
    "            ner_tags_id[result[0]] = 1\n",
    "            for j in range(result[0]+1, result[1]+1):\n",
    "              ner_tags_labels[j] = 'I-BRAND'\n",
    "              ner_tags_id[j] = 2\n",
    "\n",
    "      tags.append({'tokens': name, 'ner_tags_labels': ner_tags_labels})"
   ]
  },
  {
   "cell_type": "code",
   "execution_count": null,
   "metadata": {
    "id": "UhGHqU2EcAck"
   },
   "outputs": [],
   "source": [
    "#nlp = ru_core_news_sm.load()"
   ]
  },
  {
   "cell_type": "code",
   "execution_count": null,
   "metadata": {
    "colab": {
     "base_uri": "https://localhost:8080/"
    },
    "id": "XsajF5IwSnBt",
    "outputId": "92413cee-0315-409d-e867-03c184a55e01"
   },
   "outputs": [
    {
     "name": "stderr",
     "output_type": "stream",
     "text": [
      "100%|██████████| 81779/81779 [00:03<00:00, 24955.56it/s]\n"
     ]
    },
    {
     "data": {
      "text/plain": [
       "0        None\n",
       "1        None\n",
       "2        None\n",
       "3        None\n",
       "4        None\n",
       "         ... \n",
       "81774    None\n",
       "81775    None\n",
       "81776    None\n",
       "81777    None\n",
       "81778    None\n",
       "Length: 81779, dtype: object"
      ]
     },
     "execution_count": 11,
     "metadata": {},
     "output_type": "execute_result"
    }
   ],
   "source": [
    "tags = []\n",
    "ds.progress_apply(lambda x: make_tags(x['name'], x['brand']), axis = 1)"
   ]
  },
  {
   "cell_type": "markdown",
   "metadata": {
    "id": "8F6U3XNys88W"
   },
   "source": [
    "# Формируем данные для CRF"
   ]
  },
  {
   "cell_type": "code",
   "execution_count": null,
   "metadata": {
    "id": "AEvm-iwc5gMv"
   },
   "outputs": [],
   "source": [
    "def find_in_nerus(docs, tag):\n",
    "  global result\n",
    "  count_tag = 0\n",
    "  tags2id = {'B-PER':3, 'I-PER': 4, 'B-LOC': 5, 'I-LOC': 6, 'B-ORG': 7, 'I-ORG': 8, 'O': 0}\n",
    "  b_tag = 'B-' + tag\n",
    "  i_tag = 'I-' + tag\n",
    "  for doc in docs:\n",
    "      if count_tag >= len(tags):\n",
    "          return 'Done'\n",
    "      for sent in doc.sents:\n",
    "          tokens = []\n",
    "          ner_tags_labels = []\n",
    "          for token in sent.tokens:\n",
    "              tokens.append(token.text)\n",
    "              ner_tags_labels.append(token.tag)\n",
    "          c = Counter(ner_tags_labels)\n",
    "          count_tag = count_tag + c[b_tag] + c[i_tag]\n",
    "          if c[b_tag] + c[i_tag] > 0:\n",
    "              if {'tokens': tokens, 'ner_tags_labels': ner_tags_labels} not in result:\n",
    "                  result.append({'tokens': tokens, 'ner_tags_labels': ner_tags_labels})"
   ]
  },
  {
   "cell_type": "code",
   "execution_count": null,
   "metadata": {
    "colab": {
     "base_uri": "https://localhost:8080/"
    },
    "id": "dnEgpY9rFCWr",
    "outputId": "b887cdad-809b-48bc-dc84-d0949d0ebaf6"
   },
   "outputs": [
    {
     "name": "stderr",
     "output_type": "stream",
     "text": [
      "100%|██████████| 3/3 [23:12<00:00, 464.00s/it]\n"
     ]
    }
   ],
   "source": [
    "result = []\n",
    "all_tag = ['PER', 'LOC', 'ORG']\n",
    "for tag in tqdm(all_tag):\n",
    "    find_in_nerus(docs, tag)"
   ]
  },
  {
   "cell_type": "code",
   "execution_count": null,
   "metadata": {
    "colab": {
     "base_uri": "https://localhost:8080/"
    },
    "id": "mjyv0PYYFHlX",
    "outputId": "f3ea1295-9b49-4396-c398-ca7c47b5b86a"
   },
   "outputs": [
    {
     "name": "stderr",
     "output_type": "stream",
     "text": [
      "100%|██████████| 81527/81527 [00:00<00:00, 116827.40it/s]\n",
      "100%|██████████| 109723/109723 [00:02<00:00, 54068.79it/s]\n"
     ]
    }
   ],
   "source": [
    "full_list = []\n",
    "for dictionary in tqdm(tags):\n",
    "    lil_list = []\n",
    "    for idx, element in enumerate(dictionary['tokens']):\n",
    "        lil_list.append({\n",
    "            'text': element,\n",
    "            'bio-tag': dictionary['ner_tags_labels'][idx]\n",
    "        })\n",
    "    full_list.append(lil_list)\n",
    "for dictionary in tqdm(result):\n",
    "    lil_list = []\n",
    "    for idx, element in enumerate(dictionary['tokens']):\n",
    "        lil_list.append({\n",
    "            'text': element,\n",
    "            'bio-tag': dictionary['ner_tags_labels'][idx]\n",
    "        })\n",
    "    full_list.append(lil_list)    "
   ]
  },
  {
   "cell_type": "code",
   "execution_count": null,
   "metadata": {
    "id": "-X8pkfvfFfgn"
   },
   "outputs": [],
   "source": [
    "random.shuffle(full_list)"
   ]
  },
  {
   "cell_type": "code",
   "execution_count": null,
   "metadata": {
    "id": "g13P0Z65E5Hy"
   },
   "outputs": [],
   "source": [
    "train_sents, test_sents = train_test_split(full_list)"
   ]
  },
  {
   "cell_type": "code",
   "execution_count": null,
   "metadata": {
    "colab": {
     "base_uri": "https://localhost:8080/"
    },
    "id": "S02xhjbeFMzw",
    "outputId": "76d80661-127b-4e94-cfcb-85702d75acfd"
   },
   "outputs": [
    {
     "data": {
      "text/plain": [
       "[{'text': 'URBAN', 'bio-tag': 'B-BRAND'},\n",
       " {'text': 'ECO', 'bio-tag': 'I-BRAND'},\n",
       " {'text': 'SPIRYLINA', 'bio-tag': 'O'},\n",
       " {'text': '/', 'bio-tag': 'O'},\n",
       " {'text': 'Спирулина', 'bio-tag': 'O'},\n",
       " {'text': 'прессованная', 'bio-tag': 'O'},\n",
       " {'text': 'в', 'bio-tag': 'O'},\n",
       " {'text': 'таблетках', 'bio-tag': 'O'},\n",
       " {'text': '125гр', 'bio-tag': 'O'},\n",
       " {'text': '.', 'bio-tag': 'O'},\n",
       " {'text': '(', 'bio-tag': 'O'},\n",
       " {'text': '500таб', 'bio-tag': 'O'},\n",
       " {'text': '.', 'bio-tag': 'O'},\n",
       " {'text': 'по', 'bio-tag': 'O'},\n",
       " {'text': '250мг', 'bio-tag': 'O'},\n",
       " {'text': ')', 'bio-tag': 'O'}]"
      ]
     },
     "execution_count": 17,
     "metadata": {},
     "output_type": "execute_result"
    }
   ],
   "source": [
    "train_sents[0]"
   ]
  },
  {
   "cell_type": "code",
   "execution_count": null,
   "metadata": {
    "colab": {
     "base_uri": "https://localhost:8080/"
    },
    "id": "774YJTotFIk2",
    "outputId": "ccd7422f-ae14-4b87-9226-64853b180642"
   },
   "outputs": [
    {
     "data": {
      "text/plain": [
       "[{'text': 'Об', 'bio-tag': 'O'},\n",
       " {'text': 'этом', 'bio-tag': 'O'},\n",
       " {'text': 'говорится', 'bio-tag': 'O'},\n",
       " {'text': 'в', 'bio-tag': 'O'},\n",
       " {'text': 'аналитических', 'bio-tag': 'O'},\n",
       " {'text': 'материалах', 'bio-tag': 'O'},\n",
       " {'text': '«', 'bio-tag': 'O'},\n",
       " {'text': 'НДВ-Супермаркет', 'bio-tag': 'B-ORG'},\n",
       " {'text': 'недвижимости', 'bio-tag': 'I-ORG'},\n",
       " {'text': '»', 'bio-tag': 'O'},\n",
       " {'text': ',', 'bio-tag': 'O'},\n",
       " {'text': 'поступивших', 'bio-tag': 'O'},\n",
       " {'text': 'в', 'bio-tag': 'O'},\n",
       " {'text': '«', 'bio-tag': 'O'},\n",
       " {'text': 'Дом', 'bio-tag': 'B-ORG'},\n",
       " {'text': '»', 'bio-tag': 'O'},\n",
       " {'text': 'в', 'bio-tag': 'O'},\n",
       " {'text': 'четверг', 'bio-tag': 'O'},\n",
       " {'text': ',', 'bio-tag': 'O'},\n",
       " {'text': '5', 'bio-tag': 'O'},\n",
       " {'text': 'апреля', 'bio-tag': 'O'},\n",
       " {'text': '.', 'bio-tag': 'O'}]"
      ]
     },
     "execution_count": 18,
     "metadata": {},
     "output_type": "execute_result"
    }
   ],
   "source": [
    "test_sents[0]"
   ]
  },
  {
   "cell_type": "code",
   "execution_count": null,
   "metadata": {
    "id": "FU4u9FwdEjI6"
   },
   "outputs": [],
   "source": [
    "def word2features(sent, i):\n",
    "    word = sent[i]['text']\n",
    "    \n",
    "    features = {\n",
    "        'text': word\n",
    "    }\n",
    "    if i > 0:\n",
    "        word1 = sent[i-1]['text']\n",
    "        features.update({\n",
    "            '-1:word.lower()': word1.lower(),\n",
    "            '-1:word.istitle()': word1.istitle(),\n",
    "            '-1:word.isupper()': word1.isupper()\n",
    "        })\n",
    "    else:\n",
    "        features['BOS'] = True\n",
    "\n",
    "    if i < len(sent)-1:\n",
    "        word1 = sent[i+1]['text']\n",
    "        features.update({\n",
    "            '+1:word.lower()': word1.lower(),\n",
    "            '+1:word.istitle()': word1.istitle(),\n",
    "            '+1:word.isupper()': word1.isupper()\n",
    "        })\n",
    "    else:\n",
    "        features['EOS'] = True\n",
    "\n",
    "    return features\n",
    "\n",
    "def sent2features(sent):\n",
    "    return [word2features(sent, i) for i in range(len(sent))]\n",
    "\n",
    "def sent2labels(sent):\n",
    "    return [word['bio-tag'] for word in sent]\n",
    "\n",
    "def sent2tokens(sent):\n",
    "    return [word['text'] for word in sent]"
   ]
  },
  {
   "cell_type": "code",
   "execution_count": null,
   "metadata": {
    "id": "ymT3pHm4Ex-5"
   },
   "outputs": [],
   "source": [
    "X_train = [sent2features(text) for text in train_sents]\n",
    "y_train = [sent2labels(text) for text in train_sents]\n",
    "\n",
    "X_test = [sent2features(text) for text in test_sents]\n",
    "y_test = [sent2labels(text) for text in test_sents]"
   ]
  },
  {
   "cell_type": "code",
   "execution_count": null,
   "metadata": {
    "id": "FJNaYddlGj6o"
   },
   "outputs": [],
   "source": [
    "crf = sklearn_crfsuite.CRF(algorithm='lbfgs',\n",
    "          c1=0.1,\n",
    "          c2=0.1,\n",
    "          max_iterations=100,\n",
    "          all_possible_transitions=False)"
   ]
  },
  {
   "cell_type": "code",
   "execution_count": null,
   "metadata": {
    "id": "SFZNo9wpHSvi"
   },
   "outputs": [],
   "source": [
    "try:\n",
    "    crf.fit(X_train, y_train)\n",
    "except AttributeError:\n",
    "    pass\n",
    "y_pred  = crf.predict(X_test)"
   ]
  },
  {
   "cell_type": "code",
   "execution_count": null,
   "metadata": {
    "id": "-tfEfwGhJ6QY"
   },
   "outputs": [],
   "source": [
    "labels = set()\n",
    "for y_big in y_train:\n",
    "  for y_small in y_big:\n",
    "    labels.add(y_small)\n",
    "\n",
    "labels = list(labels)"
   ]
  },
  {
   "cell_type": "code",
   "execution_count": null,
   "metadata": {
    "colab": {
     "base_uri": "https://localhost:8080/"
    },
    "id": "3kTftFz9J-FW",
    "outputId": "16af940b-dc34-4f8e-e2a8-d46f97b03750"
   },
   "outputs": [
    {
     "data": {
      "text/plain": [
       "0.977937953366977"
      ]
     },
     "execution_count": 24,
     "metadata": {},
     "output_type": "execute_result"
    }
   ],
   "source": [
    "crf_metrics.flat_f1_score(y_test, y_pred, \n",
    "                      average='weighted', labels=labels)"
   ]
  },
  {
   "cell_type": "code",
   "execution_count": null,
   "metadata": {
    "colab": {
     "base_uri": "https://localhost:8080/"
    },
    "id": "7fbuIIJEaCk-",
    "outputId": "3e097689-110f-432b-f20c-520fce0709b0"
   },
   "outputs": [
    {
     "data": {
      "text/plain": [
       "0.9780859047365308"
      ]
     },
     "execution_count": 25,
     "metadata": {},
     "output_type": "execute_result"
    }
   ],
   "source": [
    "crf_metrics.flat_precision_score(y_test, y_pred, \n",
    "                      average='weighted', labels=labels)"
   ]
  },
  {
   "cell_type": "code",
   "execution_count": null,
   "metadata": {
    "colab": {
     "base_uri": "https://localhost:8080/"
    },
    "id": "V068chDSaGOn",
    "outputId": "59ce5318-e542-4b8e-ae65-a485c06648f2"
   },
   "outputs": [
    {
     "data": {
      "text/plain": [
       "0.9783640054334445"
      ]
     },
     "execution_count": 26,
     "metadata": {},
     "output_type": "execute_result"
    }
   ],
   "source": [
    "crf_metrics.flat_recall_score(y_test, y_pred, \n",
    "                      average='weighted', labels=labels)"
   ]
  },
  {
   "cell_type": "code",
   "execution_count": null,
   "metadata": {
    "id": "GegqVLeJaHv0"
   },
   "outputs": [],
   "source": []
  }
 ],
 "metadata": {
  "colab": {
   "provenance": []
  },
  "kernelspec": {
   "display_name": "Python 3",
   "language": "python",
   "name": "python3"
  },
  "language_info": {
   "codemirror_mode": {
    "name": "ipython",
    "version": 3
   },
   "file_extension": ".py",
   "mimetype": "text/x-python",
   "name": "python",
   "nbconvert_exporter": "python",
   "pygments_lexer": "ipython3",
   "version": "3.7.4"
  }
 },
 "nbformat": 4,
 "nbformat_minor": 1
}
