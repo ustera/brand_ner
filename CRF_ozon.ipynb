{
  "nbformat": 4,
  "nbformat_minor": 0,
  "metadata": {
    "colab": {
      "provenance": []
    },
    "kernelspec": {
      "name": "python3",
      "display_name": "Python 3"
    },
    "language_info": {
      "name": "python"
    }
  },
  "cells": [
    {
      "cell_type": "code",
      "source": [
        "!pip install sklearn_crfsuite"
      ],
      "metadata": {
        "id": "BsOwRlAgNQkN",
        "colab": {
          "base_uri": "https://localhost:8080/"
        },
        "outputId": "3bf2c620-c4a4-4654-c322-d4e7abab924a"
      },
      "execution_count": null,
      "outputs": [
        {
          "output_type": "stream",
          "name": "stdout",
          "text": [
            "Looking in indexes: https://pypi.org/simple, https://us-python.pkg.dev/colab-wheels/public/simple/\n",
            "Collecting sklearn_crfsuite\n",
            "  Downloading sklearn_crfsuite-0.3.6-py2.py3-none-any.whl (12 kB)\n",
            "Requirement already satisfied: tqdm>=2.0 in /usr/local/lib/python3.9/dist-packages (from sklearn_crfsuite) (4.65.0)\n",
            "Requirement already satisfied: tabulate in /usr/local/lib/python3.9/dist-packages (from sklearn_crfsuite) (0.8.10)\n",
            "Requirement already satisfied: six in /usr/local/lib/python3.9/dist-packages (from sklearn_crfsuite) (1.16.0)\n",
            "Collecting python-crfsuite>=0.8.3\n",
            "  Downloading python_crfsuite-0.9.9-cp39-cp39-manylinux_2_17_x86_64.manylinux2014_x86_64.whl (1.0 MB)\n",
            "\u001b[2K     \u001b[90m━━━━━━━━━━━━━━━━━━━━━━━━━━━━━━━━━━━━━━━━\u001b[0m \u001b[32m1.0/1.0 MB\u001b[0m \u001b[31m8.7 MB/s\u001b[0m eta \u001b[36m0:00:00\u001b[0m\n",
            "\u001b[?25hInstalling collected packages: python-crfsuite, sklearn_crfsuite\n",
            "Successfully installed python-crfsuite-0.9.9 sklearn_crfsuite-0.3.6\n"
          ]
        }
      ]
    },
    {
      "cell_type": "code",
      "source": [
        "import sklearn_crfsuite\n",
        "from sklearn_crfsuite import metrics as crf_metrics\n",
        "import pandas as pd\n",
        "import numpy as np\n",
        "from tqdm import tqdm\n",
        "from nltk.tokenize import wordpunct_tokenize\n",
        "import nltk\n",
        "from sklearn.model_selection import train_test_split\n",
        "import random\n",
        "from collections import Counter\n",
        "nltk.download('punkt')\n",
        "tqdm.pandas()"
      ],
      "metadata": {
        "id": "mJIk8d4_RSeZ",
        "colab": {
          "base_uri": "https://localhost:8080/"
        },
        "outputId": "9901e8a0-e928-45d7-cac9-188d645a68b6"
      },
      "execution_count": null,
      "outputs": [
        {
          "output_type": "stream",
          "name": "stderr",
          "text": [
            "[nltk_data] Downloading package punkt to /root/nltk_data...\n",
            "[nltk_data]   Unzipping tokenizers/punkt.zip.\n"
          ]
        }
      ]
    },
    {
      "cell_type": "code",
      "source": [
        "!wget dataset_ozon.tsv https://raw.githubusercontent.com/ustera/brand_ner/main/dataset_ozon.tsv"
      ],
      "metadata": {
        "colab": {
          "base_uri": "https://localhost:8080/"
        },
        "id": "F268NQM4Pd2M",
        "outputId": "4cda7ca4-7296-4383-9e6e-9de934f98af2"
      },
      "execution_count": null,
      "outputs": [
        {
          "output_type": "stream",
          "name": "stdout",
          "text": [
            "--2023-03-23 16:49:29--  http://dataset_ozon.tsv/\n",
            "Resolving dataset_ozon.tsv (dataset_ozon.tsv)... failed: Name or service not known.\n",
            "wget: unable to resolve host address ‘dataset_ozon.tsv’\n",
            "--2023-03-23 16:49:29--  https://raw.githubusercontent.com/ustera/brand_ner/main/dataset_ozon.tsv\n",
            "Resolving raw.githubusercontent.com (raw.githubusercontent.com)... 185.199.108.133, 185.199.109.133, 185.199.110.133, ...\n",
            "Connecting to raw.githubusercontent.com (raw.githubusercontent.com)|185.199.108.133|:443... connected.\n",
            "HTTP request sent, awaiting response... 200 OK\n",
            "Length: 9640627 (9.2M) [text/plain]\n",
            "Saving to: ‘dataset_ozon.tsv’\n",
            "\n",
            "dataset_ozon.tsv    100%[===================>]   9.19M  --.-KB/s    in 0.1s    \n",
            "\n",
            "2023-03-23 16:49:30 (63.9 MB/s) - ‘dataset_ozon.tsv’ saved [9640627/9640627]\n",
            "\n",
            "FINISHED --2023-03-23 16:49:30--\n",
            "Total wall clock time: 1.1s\n",
            "Downloaded: 1 files, 9.2M in 0.1s (63.9 MB/s)\n"
          ]
        }
      ]
    },
    {
      "cell_type": "code",
      "source": [
        "ds = pd.read_csv('/content/dataset_ozon.tsv', sep = '\\t')\n",
        "ds = ds.drop(columns = ['Unnamed: 0'])"
      ],
      "metadata": {
        "id": "b1NjncMg95UW"
      },
      "execution_count": null,
      "outputs": []
    },
    {
      "cell_type": "code",
      "source": [
        "ds"
      ],
      "metadata": {
        "id": "0ZbSQBNBfwZB",
        "outputId": "811165d0-9014-4487-e671-1b39c7900591",
        "colab": {
          "base_uri": "https://localhost:8080/",
          "height": 419
        }
      },
      "execution_count": null,
      "outputs": [
        {
          "output_type": "execute_result",
          "data": {
            "text/plain": [
              "                                                    name                brand\n",
              "0                   Игровая консоль PlayStation 5, белый          PlayStation\n",
              "1      Золотой Шелк Маска для волос гиалуроновая кисл...         Золотой Шелк\n",
              "2        Игровая консоль Microsoft Xbox Series X, черный            Microsoft\n",
              "3      L'Oreal Paris Infaillible 24H Fresh Wear Пудра...        L'Oreal Paris\n",
              "4      Maybelline New York Lifter Gloss Блеск для губ...  Maybelline New York\n",
              "...                                                  ...                  ...\n",
              "81774       Erborian BB Family BB карандаш, светлый, 3 г             Erborian\n",
              "81775  Комплект модулей сменных фильтрующих Аквафор Р...              Аквафор\n",
              "81776  Набор менструальных чаш Satisfyer Feel secure ...            Satisfyer\n",
              "81777  28048 Подстилка для надувных и каркасных бассе...                Intex\n",
              "81778                    Трусы женские befree 2116302102               befree\n",
              "\n",
              "[81779 rows x 2 columns]"
            ],
            "text/html": [
              "\n",
              "  <div id=\"df-27adf98c-2910-4ebb-93a1-a7fee3df836f\">\n",
              "    <div class=\"colab-df-container\">\n",
              "      <div>\n",
              "<style scoped>\n",
              "    .dataframe tbody tr th:only-of-type {\n",
              "        vertical-align: middle;\n",
              "    }\n",
              "\n",
              "    .dataframe tbody tr th {\n",
              "        vertical-align: top;\n",
              "    }\n",
              "\n",
              "    .dataframe thead th {\n",
              "        text-align: right;\n",
              "    }\n",
              "</style>\n",
              "<table border=\"1\" class=\"dataframe\">\n",
              "  <thead>\n",
              "    <tr style=\"text-align: right;\">\n",
              "      <th></th>\n",
              "      <th>name</th>\n",
              "      <th>brand</th>\n",
              "    </tr>\n",
              "  </thead>\n",
              "  <tbody>\n",
              "    <tr>\n",
              "      <th>0</th>\n",
              "      <td>Игровая консоль PlayStation 5, белый</td>\n",
              "      <td>PlayStation</td>\n",
              "    </tr>\n",
              "    <tr>\n",
              "      <th>1</th>\n",
              "      <td>Золотой Шелк Маска для волос гиалуроновая кисл...</td>\n",
              "      <td>Золотой Шелк</td>\n",
              "    </tr>\n",
              "    <tr>\n",
              "      <th>2</th>\n",
              "      <td>Игровая консоль Microsoft Xbox Series X, черный</td>\n",
              "      <td>Microsoft</td>\n",
              "    </tr>\n",
              "    <tr>\n",
              "      <th>3</th>\n",
              "      <td>L'Oreal Paris Infaillible 24H Fresh Wear Пудра...</td>\n",
              "      <td>L'Oreal Paris</td>\n",
              "    </tr>\n",
              "    <tr>\n",
              "      <th>4</th>\n",
              "      <td>Maybelline New York Lifter Gloss Блеск для губ...</td>\n",
              "      <td>Maybelline New York</td>\n",
              "    </tr>\n",
              "    <tr>\n",
              "      <th>...</th>\n",
              "      <td>...</td>\n",
              "      <td>...</td>\n",
              "    </tr>\n",
              "    <tr>\n",
              "      <th>81774</th>\n",
              "      <td>Erborian BB Family BB карандаш, светлый, 3 г</td>\n",
              "      <td>Erborian</td>\n",
              "    </tr>\n",
              "    <tr>\n",
              "      <th>81775</th>\n",
              "      <td>Комплект модулей сменных фильтрующих Аквафор Р...</td>\n",
              "      <td>Аквафор</td>\n",
              "    </tr>\n",
              "    <tr>\n",
              "      <th>81776</th>\n",
              "      <td>Набор менструальных чаш Satisfyer Feel secure ...</td>\n",
              "      <td>Satisfyer</td>\n",
              "    </tr>\n",
              "    <tr>\n",
              "      <th>81777</th>\n",
              "      <td>28048 Подстилка для надувных и каркасных бассе...</td>\n",
              "      <td>Intex</td>\n",
              "    </tr>\n",
              "    <tr>\n",
              "      <th>81778</th>\n",
              "      <td>Трусы женские befree 2116302102</td>\n",
              "      <td>befree</td>\n",
              "    </tr>\n",
              "  </tbody>\n",
              "</table>\n",
              "<p>81779 rows × 2 columns</p>\n",
              "</div>\n",
              "      <button class=\"colab-df-convert\" onclick=\"convertToInteractive('df-27adf98c-2910-4ebb-93a1-a7fee3df836f')\"\n",
              "              title=\"Convert this dataframe to an interactive table.\"\n",
              "              style=\"display:none;\">\n",
              "        \n",
              "  <svg xmlns=\"http://www.w3.org/2000/svg\" height=\"24px\"viewBox=\"0 0 24 24\"\n",
              "       width=\"24px\">\n",
              "    <path d=\"M0 0h24v24H0V0z\" fill=\"none\"/>\n",
              "    <path d=\"M18.56 5.44l.94 2.06.94-2.06 2.06-.94-2.06-.94-.94-2.06-.94 2.06-2.06.94zm-11 1L8.5 8.5l.94-2.06 2.06-.94-2.06-.94L8.5 2.5l-.94 2.06-2.06.94zm10 10l.94 2.06.94-2.06 2.06-.94-2.06-.94-.94-2.06-.94 2.06-2.06.94z\"/><path d=\"M17.41 7.96l-1.37-1.37c-.4-.4-.92-.59-1.43-.59-.52 0-1.04.2-1.43.59L10.3 9.45l-7.72 7.72c-.78.78-.78 2.05 0 2.83L4 21.41c.39.39.9.59 1.41.59.51 0 1.02-.2 1.41-.59l7.78-7.78 2.81-2.81c.8-.78.8-2.07 0-2.86zM5.41 20L4 18.59l7.72-7.72 1.47 1.35L5.41 20z\"/>\n",
              "  </svg>\n",
              "      </button>\n",
              "      \n",
              "  <style>\n",
              "    .colab-df-container {\n",
              "      display:flex;\n",
              "      flex-wrap:wrap;\n",
              "      gap: 12px;\n",
              "    }\n",
              "\n",
              "    .colab-df-convert {\n",
              "      background-color: #E8F0FE;\n",
              "      border: none;\n",
              "      border-radius: 50%;\n",
              "      cursor: pointer;\n",
              "      display: none;\n",
              "      fill: #1967D2;\n",
              "      height: 32px;\n",
              "      padding: 0 0 0 0;\n",
              "      width: 32px;\n",
              "    }\n",
              "\n",
              "    .colab-df-convert:hover {\n",
              "      background-color: #E2EBFA;\n",
              "      box-shadow: 0px 1px 2px rgba(60, 64, 67, 0.3), 0px 1px 3px 1px rgba(60, 64, 67, 0.15);\n",
              "      fill: #174EA6;\n",
              "    }\n",
              "\n",
              "    [theme=dark] .colab-df-convert {\n",
              "      background-color: #3B4455;\n",
              "      fill: #D2E3FC;\n",
              "    }\n",
              "\n",
              "    [theme=dark] .colab-df-convert:hover {\n",
              "      background-color: #434B5C;\n",
              "      box-shadow: 0px 1px 3px 1px rgba(0, 0, 0, 0.15);\n",
              "      filter: drop-shadow(0px 1px 2px rgba(0, 0, 0, 0.3));\n",
              "      fill: #FFFFFF;\n",
              "    }\n",
              "  </style>\n",
              "\n",
              "      <script>\n",
              "        const buttonEl =\n",
              "          document.querySelector('#df-27adf98c-2910-4ebb-93a1-a7fee3df836f button.colab-df-convert');\n",
              "        buttonEl.style.display =\n",
              "          google.colab.kernel.accessAllowed ? 'block' : 'none';\n",
              "\n",
              "        async function convertToInteractive(key) {\n",
              "          const element = document.querySelector('#df-27adf98c-2910-4ebb-93a1-a7fee3df836f');\n",
              "          const dataTable =\n",
              "            await google.colab.kernel.invokeFunction('convertToInteractive',\n",
              "                                                     [key], {});\n",
              "          if (!dataTable) return;\n",
              "\n",
              "          const docLinkHtml = 'Like what you see? Visit the ' +\n",
              "            '<a target=\"_blank\" href=https://colab.research.google.com/notebooks/data_table.ipynb>data table notebook</a>'\n",
              "            + ' to learn more about interactive tables.';\n",
              "          element.innerHTML = '';\n",
              "          dataTable['output_type'] = 'display_data';\n",
              "          await google.colab.output.renderOutput(dataTable, element);\n",
              "          const docLink = document.createElement('div');\n",
              "          docLink.innerHTML = docLinkHtml;\n",
              "          element.appendChild(docLink);\n",
              "        }\n",
              "      </script>\n",
              "    </div>\n",
              "  </div>\n",
              "  "
            ]
          },
          "metadata": {},
          "execution_count": 5
        }
      ]
    },
    {
      "cell_type": "code",
      "source": [
        "def make_tags(n, b):\n",
        "    global tags\n",
        "    ner_tags_id = []\n",
        "    name = wordpunct_tokenize(n)\n",
        "    brand = wordpunct_tokenize(b)\n",
        "    results=[]\n",
        "    sll=len(brand)\n",
        "    for ind in (i for i,e in enumerate(name) if e==brand[0]):\n",
        "        if name[ind:ind+sll]==brand:\n",
        "            results.append((ind,ind+sll-1))\n",
        "    if results != []:\n",
        "      ner_tags_labels = ['O'] * len(name)  \n",
        "      ner_tags_id = [0] * len(name)     \n",
        "      for result in results:\n",
        "          if result[0] == result[1]:\n",
        "              ner_tags_labels[result[0]] = 'B-BRAND'\n",
        "              ner_tags_id[result[0]] = 1\n",
        "          else:\n",
        "            ner_tags_labels[result[0]] = 'B-BRAND'\n",
        "            ner_tags_id[result[0]] = 1\n",
        "            for j in range(result[0]+1, result[1]+1):\n",
        "              ner_tags_labels[j] = 'I-BRAND'\n",
        "              ner_tags_id[j] = 2\n",
        "\n",
        "      tags.append({'tokens': name, 'ner_tags_labels': ner_tags_labels})"
      ],
      "metadata": {
        "id": "OnMk6FeKRL7h"
      },
      "execution_count": null,
      "outputs": []
    },
    {
      "cell_type": "code",
      "source": [
        "tags = []\n",
        "ds.progress_apply(lambda x: make_tags(x['name'], x['brand']), axis = 1)"
      ],
      "metadata": {
        "colab": {
          "base_uri": "https://localhost:8080/"
        },
        "id": "XsajF5IwSnBt",
        "outputId": "85c361ea-0497-4852-f73c-e617ca896290"
      },
      "execution_count": null,
      "outputs": [
        {
          "output_type": "stream",
          "name": "stderr",
          "text": [
            "100%|██████████| 81779/81779 [00:04<00:00, 17563.50it/s]\n"
          ]
        },
        {
          "output_type": "execute_result",
          "data": {
            "text/plain": [
              "0        None\n",
              "1        None\n",
              "2        None\n",
              "3        None\n",
              "4        None\n",
              "         ... \n",
              "81774    None\n",
              "81775    None\n",
              "81776    None\n",
              "81777    None\n",
              "81778    None\n",
              "Length: 81779, dtype: object"
            ]
          },
          "metadata": {},
          "execution_count": 7
        }
      ]
    },
    {
      "cell_type": "markdown",
      "source": [
        "# Формируем данные для CRF"
      ],
      "metadata": {
        "id": "8F6U3XNys88W"
      }
    },
    {
      "cell_type": "code",
      "source": [
        "full_list = []\n",
        "for dictionary in tqdm(tags):\n",
        "    lil_list = []\n",
        "    for idx, element in enumerate(dictionary['tokens']):\n",
        "        lil_list.append({\n",
        "            'text': element,\n",
        "            'bio-tag': dictionary['ner_tags_labels'][idx]\n",
        "        })\n",
        "    full_list.append(lil_list)"
      ],
      "metadata": {
        "colab": {
          "base_uri": "https://localhost:8080/"
        },
        "id": "mjyv0PYYFHlX",
        "outputId": "c60ba344-cb0f-4193-cc67-89ef614d9f6e"
      },
      "execution_count": null,
      "outputs": [
        {
          "output_type": "stream",
          "name": "stderr",
          "text": [
            "100%|██████████| 81527/81527 [00:01<00:00, 60873.95it/s]\n"
          ]
        }
      ]
    },
    {
      "cell_type": "code",
      "source": [
        "random.shuffle(full_list)"
      ],
      "metadata": {
        "id": "-X8pkfvfFfgn"
      },
      "execution_count": null,
      "outputs": []
    },
    {
      "cell_type": "code",
      "source": [
        "train_sents, test_sents = train_test_split(full_list)"
      ],
      "metadata": {
        "id": "g13P0Z65E5Hy"
      },
      "execution_count": null,
      "outputs": []
    },
    {
      "cell_type": "code",
      "source": [
        "train_sents[0]"
      ],
      "metadata": {
        "colab": {
          "base_uri": "https://localhost:8080/"
        },
        "id": "S02xhjbeFMzw",
        "outputId": "62696351-2792-448c-8566-02d6a6c56f0c"
      },
      "execution_count": null,
      "outputs": [
        {
          "output_type": "execute_result",
          "data": {
            "text/plain": [
              "[{'text': 'Planta', 'bio-tag': 'B-BRAND'},\n",
              " {'text': 'Массажер', 'bio-tag': 'O'},\n",
              " {'text': 'для', 'bio-tag': 'O'},\n",
              " {'text': 'ног', 'bio-tag': 'O'},\n",
              " {'text': 'MF', 'bio-tag': 'O'},\n",
              " {'text': '-', 'bio-tag': 'O'},\n",
              " {'text': '6B', 'bio-tag': 'O'},\n",
              " {'text': ',', 'bio-tag': 'O'},\n",
              " {'text': 'Шиацу', 'bio-tag': 'O'},\n",
              " {'text': ',', 'bio-tag': 'O'},\n",
              " {'text': '3', 'bio-tag': 'O'},\n",
              " {'text': 'уровня', 'bio-tag': 'O'},\n",
              " {'text': 'компрессии', 'bio-tag': 'O'},\n",
              " {'text': ',', 'bio-tag': 'O'},\n",
              " {'text': 'подогрев', 'bio-tag': 'O'},\n",
              " {'text': ',', 'bio-tag': 'O'},\n",
              " {'text': '3', 'bio-tag': 'O'},\n",
              " {'text': 'скорости', 'bio-tag': 'O'},\n",
              " {'text': ',', 'bio-tag': 'O'},\n",
              " {'text': 'панель', 'bio-tag': 'O'},\n",
              " {'text': 'управления', 'bio-tag': 'O'},\n",
              " {'text': ',', 'bio-tag': 'O'},\n",
              " {'text': 'таймер', 'bio-tag': 'O'}]"
            ]
          },
          "metadata": {},
          "execution_count": 11
        }
      ]
    },
    {
      "cell_type": "code",
      "source": [
        "test_sents[0]"
      ],
      "metadata": {
        "colab": {
          "base_uri": "https://localhost:8080/"
        },
        "id": "774YJTotFIk2",
        "outputId": "e5fd434d-0cf6-40b7-d9df-98dd57b74626"
      },
      "execution_count": null,
      "outputs": [
        {
          "output_type": "execute_result",
          "data": {
            "text/plain": [
              "[{'text': 'Серьги', 'bio-tag': 'O'},\n",
              " {'text': 'LUMINA', 'bio-tag': 'B-BRAND'},\n",
              " {'text': 'ART', 'bio-tag': 'I-BRAND'},\n",
              " {'text': 'JEWELSDIN77', 'bio-tag': 'I-BRAND'}]"
            ]
          },
          "metadata": {},
          "execution_count": 12
        }
      ]
    },
    {
      "cell_type": "code",
      "source": [
        "def word2features(sent, i):\n",
        "    word = sent[i]['text']\n",
        "    \n",
        "    features = {\n",
        "        'text': word\n",
        "    }\n",
        "    if i > 0:\n",
        "        word1 = sent[i-1]['text']\n",
        "        features.update({\n",
        "            '-1:word.lower()': word1.lower(),\n",
        "            '-1:word.istitle()': word1.istitle(),\n",
        "            '-1:word.isupper()': word1.isupper()\n",
        "        })\n",
        "    else:\n",
        "        features['BOS'] = True\n",
        "\n",
        "    if i < len(sent)-1:\n",
        "        word1 = sent[i+1]['text']\n",
        "        features.update({\n",
        "            '+1:word.lower()': word1.lower(),\n",
        "            '+1:word.istitle()': word1.istitle(),\n",
        "            '+1:word.isupper()': word1.isupper()\n",
        "        })\n",
        "    else:\n",
        "        features['EOS'] = True\n",
        "\n",
        "    return features\n",
        "\n",
        "def sent2features(sent):\n",
        "    return [word2features(sent, i) for i in range(len(sent))]\n",
        "\n",
        "def sent2labels(sent):\n",
        "    return [word['bio-tag'] for word in sent]\n",
        "\n",
        "def sent2tokens(sent):\n",
        "    return [word['text'] for word in sent]"
      ],
      "metadata": {
        "id": "FU4u9FwdEjI6"
      },
      "execution_count": null,
      "outputs": []
    },
    {
      "cell_type": "code",
      "source": [
        "X_train = [sent2features(text) for text in train_sents]\n",
        "y_train = [sent2labels(text) for text in train_sents]\n",
        "\n",
        "X_test = [sent2features(text) for text in test_sents]\n",
        "y_test = [sent2labels(text) for text in test_sents]"
      ],
      "metadata": {
        "id": "ymT3pHm4Ex-5"
      },
      "execution_count": null,
      "outputs": []
    },
    {
      "cell_type": "code",
      "source": [
        "crf = sklearn_crfsuite.CRF(algorithm='lbfgs',\n",
        "          c1=0.1,\n",
        "          c2=0.1,\n",
        "          max_iterations=100,\n",
        "          all_possible_transitions=False)"
      ],
      "metadata": {
        "id": "FJNaYddlGj6o"
      },
      "execution_count": null,
      "outputs": []
    },
    {
      "cell_type": "code",
      "source": [
        "try:\n",
        "    crf.fit(X_train, y_train)\n",
        "except AttributeError:\n",
        "    pass\n",
        "y_pred  = crf.predict(X_test)"
      ],
      "metadata": {
        "id": "SFZNo9wpHSvi"
      },
      "execution_count": null,
      "outputs": []
    },
    {
      "cell_type": "code",
      "source": [
        "labels = set()\n",
        "for y_big in y_train:\n",
        "  for y_small in y_big:\n",
        "    labels.add(y_small)\n",
        "\n",
        "labels = list(labels)"
      ],
      "metadata": {
        "id": "-tfEfwGhJ6QY"
      },
      "execution_count": null,
      "outputs": []
    },
    {
      "cell_type": "code",
      "source": [
        "crf_metrics.flat_f1_score(y_test, y_pred, average='weighted', labels=labels)"
      ],
      "metadata": {
        "colab": {
          "base_uri": "https://localhost:8080/"
        },
        "id": "3kTftFz9J-FW",
        "outputId": "52796c1d-4037-4bad-b34a-8d5442ab3a90"
      },
      "execution_count": null,
      "outputs": [
        {
          "output_type": "execute_result",
          "data": {
            "text/plain": [
              "0.9843246584347566"
            ]
          },
          "metadata": {},
          "execution_count": 18
        }
      ]
    },
    {
      "cell_type": "code",
      "source": [
        "crf_metrics.flat_precision_score(y_test, y_pred, average='weighted', labels=labels)"
      ],
      "metadata": {
        "colab": {
          "base_uri": "https://localhost:8080/"
        },
        "id": "XmFEPWWzXxQ9",
        "outputId": "f75b3ac1-c9fe-4bae-a1f3-b971fb913e46"
      },
      "execution_count": null,
      "outputs": [
        {
          "output_type": "execute_result",
          "data": {
            "text/plain": [
              "0.9843790240393467"
            ]
          },
          "metadata": {},
          "execution_count": 23
        }
      ]
    },
    {
      "cell_type": "code",
      "source": [
        "crf_metrics.flat_recall_score(y_test, y_pred, average='weighted', labels=labels)"
      ],
      "metadata": {
        "colab": {
          "base_uri": "https://localhost:8080/"
        },
        "id": "yUCOunTwZHOE",
        "outputId": "92b47b90-567b-46f1-ebcc-ce5283d1d952"
      },
      "execution_count": null,
      "outputs": [
        {
          "output_type": "execute_result",
          "data": {
            "text/plain": [
              "0.9845698840935615"
            ]
          },
          "metadata": {},
          "execution_count": 24
        }
      ]
    }
  ]
}