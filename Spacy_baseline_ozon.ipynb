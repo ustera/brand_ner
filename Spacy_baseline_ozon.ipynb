{
  "nbformat": 4,
  "nbformat_minor": 0,
  "metadata": {
    "colab": {
      "provenance": []
    },
    "kernelspec": {
      "name": "python3",
      "display_name": "Python 3"
    },
    "language_info": {
      "name": "python"
    },
    "gpuClass": "standard"
  },
  "cells": [
    {
      "cell_type": "code",
      "source": [
        "!wget dataset_ozon.tsv https://raw.githubusercontent.com/ustera/brand_ner/main/dataset_ozon.tsv"
      ],
      "metadata": {
        "id": "F268NQM4Pd2M"
      },
      "execution_count": null,
      "outputs": []
    },
    {
      "cell_type": "code",
      "execution_count": null,
      "metadata": {
        "id": "LDP0-tri9r_E"
      },
      "outputs": [],
      "source": [
        "import pandas as pd\n",
        "import numpy as np\n",
        "from tqdm import tqdm\n",
        "import spacy\n",
        "from collections import Counter\n",
        "from sklearn.model_selection import train_test_split\n",
        "from spacy.tokens import DocBin\n",
        "from re import sub\n",
        "from string import punctuation\n",
        "tqdm.pandas()"
      ]
    },
    {
      "cell_type": "code",
      "source": [
        "!python3 -m spacy download ru_core_news_lg"
      ],
      "metadata": {
        "id": "1a5jMt96cF-T"
      },
      "execution_count": null,
      "outputs": []
    },
    {
      "cell_type": "code",
      "source": [
        "ds = pd.read_csv('/content/dataset_ozon.tsv', sep = '\\t')\n",
        "ds = ds.drop(columns = ['Unnamed: 0'])"
      ],
      "metadata": {
        "id": "b1NjncMg95UW"
      },
      "execution_count": null,
      "outputs": []
    },
    {
      "cell_type": "code",
      "source": [
        "ds"
      ],
      "metadata": {
        "id": "0ZbSQBNBfwZB",
        "outputId": "825b1c4e-e51f-4a1f-b21d-4506e0e7320a",
        "colab": {
          "base_uri": "https://localhost:8080/",
          "height": 424
        }
      },
      "execution_count": null,
      "outputs": [
        {
          "output_type": "execute_result",
          "data": {
            "text/plain": [
              "                                                    name                brand\n",
              "0                   Игровая консоль PlayStation 5, белый          PlayStation\n",
              "1      Золотой Шелк Маска для волос гиалуроновая кисл...         Золотой Шелк\n",
              "2        Игровая консоль Microsoft Xbox Series X, черный            Microsoft\n",
              "3      L'Oreal Paris Infaillible 24H Fresh Wear Пудра...        L'Oreal Paris\n",
              "4      Maybelline New York Lifter Gloss Блеск для губ...  Maybelline New York\n",
              "...                                                  ...                  ...\n",
              "81774       Erborian BB Family BB карандаш, светлый, 3 г             Erborian\n",
              "81775  Комплект модулей сменных фильтрующих Аквафор Р...              Аквафор\n",
              "81776  Набор менструальных чаш Satisfyer Feel secure ...            Satisfyer\n",
              "81777  28048 Подстилка для надувных и каркасных бассе...                Intex\n",
              "81778                    Трусы женские befree 2116302102               befree\n",
              "\n",
              "[81779 rows x 2 columns]"
            ],
            "text/html": [
              "\n",
              "  <div id=\"df-e6983b96-1be4-4e24-856e-5c1e6833f126\">\n",
              "    <div class=\"colab-df-container\">\n",
              "      <div>\n",
              "<style scoped>\n",
              "    .dataframe tbody tr th:only-of-type {\n",
              "        vertical-align: middle;\n",
              "    }\n",
              "\n",
              "    .dataframe tbody tr th {\n",
              "        vertical-align: top;\n",
              "    }\n",
              "\n",
              "    .dataframe thead th {\n",
              "        text-align: right;\n",
              "    }\n",
              "</style>\n",
              "<table border=\"1\" class=\"dataframe\">\n",
              "  <thead>\n",
              "    <tr style=\"text-align: right;\">\n",
              "      <th></th>\n",
              "      <th>name</th>\n",
              "      <th>brand</th>\n",
              "    </tr>\n",
              "  </thead>\n",
              "  <tbody>\n",
              "    <tr>\n",
              "      <th>0</th>\n",
              "      <td>Игровая консоль PlayStation 5, белый</td>\n",
              "      <td>PlayStation</td>\n",
              "    </tr>\n",
              "    <tr>\n",
              "      <th>1</th>\n",
              "      <td>Золотой Шелк Маска для волос гиалуроновая кисл...</td>\n",
              "      <td>Золотой Шелк</td>\n",
              "    </tr>\n",
              "    <tr>\n",
              "      <th>2</th>\n",
              "      <td>Игровая консоль Microsoft Xbox Series X, черный</td>\n",
              "      <td>Microsoft</td>\n",
              "    </tr>\n",
              "    <tr>\n",
              "      <th>3</th>\n",
              "      <td>L'Oreal Paris Infaillible 24H Fresh Wear Пудра...</td>\n",
              "      <td>L'Oreal Paris</td>\n",
              "    </tr>\n",
              "    <tr>\n",
              "      <th>4</th>\n",
              "      <td>Maybelline New York Lifter Gloss Блеск для губ...</td>\n",
              "      <td>Maybelline New York</td>\n",
              "    </tr>\n",
              "    <tr>\n",
              "      <th>...</th>\n",
              "      <td>...</td>\n",
              "      <td>...</td>\n",
              "    </tr>\n",
              "    <tr>\n",
              "      <th>81774</th>\n",
              "      <td>Erborian BB Family BB карандаш, светлый, 3 г</td>\n",
              "      <td>Erborian</td>\n",
              "    </tr>\n",
              "    <tr>\n",
              "      <th>81775</th>\n",
              "      <td>Комплект модулей сменных фильтрующих Аквафор Р...</td>\n",
              "      <td>Аквафор</td>\n",
              "    </tr>\n",
              "    <tr>\n",
              "      <th>81776</th>\n",
              "      <td>Набор менструальных чаш Satisfyer Feel secure ...</td>\n",
              "      <td>Satisfyer</td>\n",
              "    </tr>\n",
              "    <tr>\n",
              "      <th>81777</th>\n",
              "      <td>28048 Подстилка для надувных и каркасных бассе...</td>\n",
              "      <td>Intex</td>\n",
              "    </tr>\n",
              "    <tr>\n",
              "      <th>81778</th>\n",
              "      <td>Трусы женские befree 2116302102</td>\n",
              "      <td>befree</td>\n",
              "    </tr>\n",
              "  </tbody>\n",
              "</table>\n",
              "<p>81779 rows × 2 columns</p>\n",
              "</div>\n",
              "      <button class=\"colab-df-convert\" onclick=\"convertToInteractive('df-e6983b96-1be4-4e24-856e-5c1e6833f126')\"\n",
              "              title=\"Convert this dataframe to an interactive table.\"\n",
              "              style=\"display:none;\">\n",
              "        \n",
              "  <svg xmlns=\"http://www.w3.org/2000/svg\" height=\"24px\"viewBox=\"0 0 24 24\"\n",
              "       width=\"24px\">\n",
              "    <path d=\"M0 0h24v24H0V0z\" fill=\"none\"/>\n",
              "    <path d=\"M18.56 5.44l.94 2.06.94-2.06 2.06-.94-2.06-.94-.94-2.06-.94 2.06-2.06.94zm-11 1L8.5 8.5l.94-2.06 2.06-.94-2.06-.94L8.5 2.5l-.94 2.06-2.06.94zm10 10l.94 2.06.94-2.06 2.06-.94-2.06-.94-.94-2.06-.94 2.06-2.06.94z\"/><path d=\"M17.41 7.96l-1.37-1.37c-.4-.4-.92-.59-1.43-.59-.52 0-1.04.2-1.43.59L10.3 9.45l-7.72 7.72c-.78.78-.78 2.05 0 2.83L4 21.41c.39.39.9.59 1.41.59.51 0 1.02-.2 1.41-.59l7.78-7.78 2.81-2.81c.8-.78.8-2.07 0-2.86zM5.41 20L4 18.59l7.72-7.72 1.47 1.35L5.41 20z\"/>\n",
              "  </svg>\n",
              "      </button>\n",
              "      \n",
              "  <style>\n",
              "    .colab-df-container {\n",
              "      display:flex;\n",
              "      flex-wrap:wrap;\n",
              "      gap: 12px;\n",
              "    }\n",
              "\n",
              "    .colab-df-convert {\n",
              "      background-color: #E8F0FE;\n",
              "      border: none;\n",
              "      border-radius: 50%;\n",
              "      cursor: pointer;\n",
              "      display: none;\n",
              "      fill: #1967D2;\n",
              "      height: 32px;\n",
              "      padding: 0 0 0 0;\n",
              "      width: 32px;\n",
              "    }\n",
              "\n",
              "    .colab-df-convert:hover {\n",
              "      background-color: #E2EBFA;\n",
              "      box-shadow: 0px 1px 2px rgba(60, 64, 67, 0.3), 0px 1px 3px 1px rgba(60, 64, 67, 0.15);\n",
              "      fill: #174EA6;\n",
              "    }\n",
              "\n",
              "    [theme=dark] .colab-df-convert {\n",
              "      background-color: #3B4455;\n",
              "      fill: #D2E3FC;\n",
              "    }\n",
              "\n",
              "    [theme=dark] .colab-df-convert:hover {\n",
              "      background-color: #434B5C;\n",
              "      box-shadow: 0px 1px 3px 1px rgba(0, 0, 0, 0.15);\n",
              "      filter: drop-shadow(0px 1px 2px rgba(0, 0, 0, 0.3));\n",
              "      fill: #FFFFFF;\n",
              "    }\n",
              "  </style>\n",
              "\n",
              "      <script>\n",
              "        const buttonEl =\n",
              "          document.querySelector('#df-e6983b96-1be4-4e24-856e-5c1e6833f126 button.colab-df-convert');\n",
              "        buttonEl.style.display =\n",
              "          google.colab.kernel.accessAllowed ? 'block' : 'none';\n",
              "\n",
              "        async function convertToInteractive(key) {\n",
              "          const element = document.querySelector('#df-e6983b96-1be4-4e24-856e-5c1e6833f126');\n",
              "          const dataTable =\n",
              "            await google.colab.kernel.invokeFunction('convertToInteractive',\n",
              "                                                     [key], {});\n",
              "          if (!dataTable) return;\n",
              "\n",
              "          const docLinkHtml = 'Like what you see? Visit the ' +\n",
              "            '<a target=\"_blank\" href=https://colab.research.google.com/notebooks/data_table.ipynb>data table notebook</a>'\n",
              "            + ' to learn more about interactive tables.';\n",
              "          element.innerHTML = '';\n",
              "          dataTable['output_type'] = 'display_data';\n",
              "          await google.colab.output.renderOutput(dataTable, element);\n",
              "          const docLink = document.createElement('div');\n",
              "          docLink.innerHTML = docLinkHtml;\n",
              "          element.appendChild(docLink);\n",
              "        }\n",
              "      </script>\n",
              "    </div>\n",
              "  </div>\n",
              "  "
            ]
          },
          "metadata": {},
          "execution_count": 5
        }
      ]
    },
    {
      "cell_type": "code",
      "source": [
        "# add spaces either side of punctuation\n",
        "# remove multiple spaces\n",
        "# strip of spacelike characters\n",
        "ds = ds.applymap(lambda string: sub(r\"\\s{2,}\", \" \", sub(f'([{punctuation}]) ?', r\" \\1 \", string)).strip()) "
      ],
      "metadata": {
        "id": "rZp18TPRt2QF"
      },
      "execution_count": null,
      "outputs": []
    },
    {
      "cell_type": "code",
      "source": [
        "ds"
      ],
      "metadata": {
        "colab": {
          "base_uri": "https://localhost:8080/",
          "height": 424
        },
        "id": "n8Vzkvj3v9rp",
        "outputId": "a180504b-1da0-46e5-9e87-4ad1b29cf60f"
      },
      "execution_count": null,
      "outputs": [
        {
          "output_type": "execute_result",
          "data": {
            "text/plain": [
              "                                                    name                brand\n",
              "0                  Игровая консоль PlayStation 5 , белый          PlayStation\n",
              "1      Золотой Шелк Маска для волос гиалуроновая кисл...         Золотой Шелк\n",
              "2       Игровая консоль Microsoft Xbox Series X , черный            Microsoft\n",
              "3      L ' Oreal Paris Infaillible 24H Fresh Wear Пуд...      L ' Oreal Paris\n",
              "4      Maybelline New York Lifter Gloss Блеск для губ...  Maybelline New York\n",
              "...                                                  ...                  ...\n",
              "81774     Erborian BB Family BB карандаш , светлый , 3 г             Erborian\n",
              "81775  Комплект модулей сменных фильтрующих Аквафор Р...              Аквафор\n",
              "81776  Набор менструальных чаш Satisfyer Feel secure ...            Satisfyer\n",
              "81777  28048 Подстилка для надувных и каркасных бассе...                Intex\n",
              "81778                    Трусы женские befree 2116302102               befree\n",
              "\n",
              "[81779 rows x 2 columns]"
            ],
            "text/html": [
              "\n",
              "  <div id=\"df-97c795de-83d3-4587-9632-7e0c38ed5250\">\n",
              "    <div class=\"colab-df-container\">\n",
              "      <div>\n",
              "<style scoped>\n",
              "    .dataframe tbody tr th:only-of-type {\n",
              "        vertical-align: middle;\n",
              "    }\n",
              "\n",
              "    .dataframe tbody tr th {\n",
              "        vertical-align: top;\n",
              "    }\n",
              "\n",
              "    .dataframe thead th {\n",
              "        text-align: right;\n",
              "    }\n",
              "</style>\n",
              "<table border=\"1\" class=\"dataframe\">\n",
              "  <thead>\n",
              "    <tr style=\"text-align: right;\">\n",
              "      <th></th>\n",
              "      <th>name</th>\n",
              "      <th>brand</th>\n",
              "    </tr>\n",
              "  </thead>\n",
              "  <tbody>\n",
              "    <tr>\n",
              "      <th>0</th>\n",
              "      <td>Игровая консоль PlayStation 5 , белый</td>\n",
              "      <td>PlayStation</td>\n",
              "    </tr>\n",
              "    <tr>\n",
              "      <th>1</th>\n",
              "      <td>Золотой Шелк Маска для волос гиалуроновая кисл...</td>\n",
              "      <td>Золотой Шелк</td>\n",
              "    </tr>\n",
              "    <tr>\n",
              "      <th>2</th>\n",
              "      <td>Игровая консоль Microsoft Xbox Series X , черный</td>\n",
              "      <td>Microsoft</td>\n",
              "    </tr>\n",
              "    <tr>\n",
              "      <th>3</th>\n",
              "      <td>L ' Oreal Paris Infaillible 24H Fresh Wear Пуд...</td>\n",
              "      <td>L ' Oreal Paris</td>\n",
              "    </tr>\n",
              "    <tr>\n",
              "      <th>4</th>\n",
              "      <td>Maybelline New York Lifter Gloss Блеск для губ...</td>\n",
              "      <td>Maybelline New York</td>\n",
              "    </tr>\n",
              "    <tr>\n",
              "      <th>...</th>\n",
              "      <td>...</td>\n",
              "      <td>...</td>\n",
              "    </tr>\n",
              "    <tr>\n",
              "      <th>81774</th>\n",
              "      <td>Erborian BB Family BB карандаш , светлый , 3 г</td>\n",
              "      <td>Erborian</td>\n",
              "    </tr>\n",
              "    <tr>\n",
              "      <th>81775</th>\n",
              "      <td>Комплект модулей сменных фильтрующих Аквафор Р...</td>\n",
              "      <td>Аквафор</td>\n",
              "    </tr>\n",
              "    <tr>\n",
              "      <th>81776</th>\n",
              "      <td>Набор менструальных чаш Satisfyer Feel secure ...</td>\n",
              "      <td>Satisfyer</td>\n",
              "    </tr>\n",
              "    <tr>\n",
              "      <th>81777</th>\n",
              "      <td>28048 Подстилка для надувных и каркасных бассе...</td>\n",
              "      <td>Intex</td>\n",
              "    </tr>\n",
              "    <tr>\n",
              "      <th>81778</th>\n",
              "      <td>Трусы женские befree 2116302102</td>\n",
              "      <td>befree</td>\n",
              "    </tr>\n",
              "  </tbody>\n",
              "</table>\n",
              "<p>81779 rows × 2 columns</p>\n",
              "</div>\n",
              "      <button class=\"colab-df-convert\" onclick=\"convertToInteractive('df-97c795de-83d3-4587-9632-7e0c38ed5250')\"\n",
              "              title=\"Convert this dataframe to an interactive table.\"\n",
              "              style=\"display:none;\">\n",
              "        \n",
              "  <svg xmlns=\"http://www.w3.org/2000/svg\" height=\"24px\"viewBox=\"0 0 24 24\"\n",
              "       width=\"24px\">\n",
              "    <path d=\"M0 0h24v24H0V0z\" fill=\"none\"/>\n",
              "    <path d=\"M18.56 5.44l.94 2.06.94-2.06 2.06-.94-2.06-.94-.94-2.06-.94 2.06-2.06.94zm-11 1L8.5 8.5l.94-2.06 2.06-.94-2.06-.94L8.5 2.5l-.94 2.06-2.06.94zm10 10l.94 2.06.94-2.06 2.06-.94-2.06-.94-.94-2.06-.94 2.06-2.06.94z\"/><path d=\"M17.41 7.96l-1.37-1.37c-.4-.4-.92-.59-1.43-.59-.52 0-1.04.2-1.43.59L10.3 9.45l-7.72 7.72c-.78.78-.78 2.05 0 2.83L4 21.41c.39.39.9.59 1.41.59.51 0 1.02-.2 1.41-.59l7.78-7.78 2.81-2.81c.8-.78.8-2.07 0-2.86zM5.41 20L4 18.59l7.72-7.72 1.47 1.35L5.41 20z\"/>\n",
              "  </svg>\n",
              "      </button>\n",
              "      \n",
              "  <style>\n",
              "    .colab-df-container {\n",
              "      display:flex;\n",
              "      flex-wrap:wrap;\n",
              "      gap: 12px;\n",
              "    }\n",
              "\n",
              "    .colab-df-convert {\n",
              "      background-color: #E8F0FE;\n",
              "      border: none;\n",
              "      border-radius: 50%;\n",
              "      cursor: pointer;\n",
              "      display: none;\n",
              "      fill: #1967D2;\n",
              "      height: 32px;\n",
              "      padding: 0 0 0 0;\n",
              "      width: 32px;\n",
              "    }\n",
              "\n",
              "    .colab-df-convert:hover {\n",
              "      background-color: #E2EBFA;\n",
              "      box-shadow: 0px 1px 2px rgba(60, 64, 67, 0.3), 0px 1px 3px 1px rgba(60, 64, 67, 0.15);\n",
              "      fill: #174EA6;\n",
              "    }\n",
              "\n",
              "    [theme=dark] .colab-df-convert {\n",
              "      background-color: #3B4455;\n",
              "      fill: #D2E3FC;\n",
              "    }\n",
              "\n",
              "    [theme=dark] .colab-df-convert:hover {\n",
              "      background-color: #434B5C;\n",
              "      box-shadow: 0px 1px 3px 1px rgba(0, 0, 0, 0.15);\n",
              "      filter: drop-shadow(0px 1px 2px rgba(0, 0, 0, 0.3));\n",
              "      fill: #FFFFFF;\n",
              "    }\n",
              "  </style>\n",
              "\n",
              "      <script>\n",
              "        const buttonEl =\n",
              "          document.querySelector('#df-97c795de-83d3-4587-9632-7e0c38ed5250 button.colab-df-convert');\n",
              "        buttonEl.style.display =\n",
              "          google.colab.kernel.accessAllowed ? 'block' : 'none';\n",
              "\n",
              "        async function convertToInteractive(key) {\n",
              "          const element = document.querySelector('#df-97c795de-83d3-4587-9632-7e0c38ed5250');\n",
              "          const dataTable =\n",
              "            await google.colab.kernel.invokeFunction('convertToInteractive',\n",
              "                                                     [key], {});\n",
              "          if (!dataTable) return;\n",
              "\n",
              "          const docLinkHtml = 'Like what you see? Visit the ' +\n",
              "            '<a target=\"_blank\" href=https://colab.research.google.com/notebooks/data_table.ipynb>data table notebook</a>'\n",
              "            + ' to learn more about interactive tables.';\n",
              "          element.innerHTML = '';\n",
              "          dataTable['output_type'] = 'display_data';\n",
              "          await google.colab.output.renderOutput(dataTable, element);\n",
              "          const docLink = document.createElement('div');\n",
              "          docLink.innerHTML = docLinkHtml;\n",
              "          element.appendChild(docLink);\n",
              "        }\n",
              "      </script>\n",
              "    </div>\n",
              "  </div>\n",
              "  "
            ]
          },
          "metadata": {},
          "execution_count": 7
        }
      ]
    },
    {
      "cell_type": "code",
      "source": [
        "import ru_core_news_lg\n",
        "nlp = ru_core_news_lg.load()"
      ],
      "metadata": {
        "id": "UhGHqU2EcAck"
      },
      "execution_count": null,
      "outputs": []
    },
    {
      "cell_type": "code",
      "source": [
        "def make_tags(name, brand):\n",
        "  global tags\n",
        "  global ind\n",
        "  name_splt = nlp(name)\n",
        "  brand_splt = nlp(brand)\n",
        "  for i in name_splt:\n",
        "    for j in brand_splt:\n",
        "      # check for brand names that repeat words (e.g. M&M's)\n",
        "      if not tags or tags[-1][1].idx != i.idx:\n",
        "        if i.lower_ == j.lower_:\n",
        "          if j.i == 0:\n",
        "            # for multiple word brand names, we have to make sure what the word found is part of the brand name\n",
        "            if len(brand_splt) == 1: \n",
        "              tags.append([ind, i, 'B-BRAND'])\n",
        "            elif name_splt[i.i:].text.lower().startswith(brand_splt[j.i:].text.lower()):\n",
        "              tags.append([ind, i, 'B-BRAND'])\n",
        "            elif (j.i == len(brand_splt)-1) or (i.text not in brand_splt[j.i+1:].text.split()):\n",
        "              tags.append([ind, i, 'O'])\n",
        "          else: \n",
        "            if (\n",
        "                name_splt[:i.i].text.lower().endswith(brand_splt[:j.i].text.lower())\n",
        "                and\n",
        "                name_splt[i.i:].text.lower().startswith(brand_splt[j.i:].text.lower())\n",
        "              ):\n",
        "              tags.append([ind, i, 'I-BRAND'])\n",
        "            elif (j.i == len(brand_splt)-1) or (i.text not in brand_splt[j.i+1:].text.split()):\n",
        "              tags.append([ind, i, 'O'])\n",
        "    if i.lower_ not in brand.lower():\n",
        "      tags.append([ind, i, 'O'])\n",
        "  ind += 1\n",
        "  return tags"
      ],
      "metadata": {
        "id": "OnMk6FeKRL7h"
      },
      "execution_count": null,
      "outputs": []
    },
    {
      "cell_type": "code",
      "source": [
        "tags = []\n",
        "ind = 0\n",
        "print(make_tags(\"Pure Paw Paw бальзам с ароматом клубники\", \"Pure Paw Paw\"))"
      ],
      "metadata": {
        "colab": {
          "base_uri": "https://localhost:8080/"
        },
        "id": "FkBDjxQJzaSp",
        "outputId": "8cddd897-830f-4400-f238-66c5b3b8793e"
      },
      "execution_count": null,
      "outputs": [
        {
          "output_type": "stream",
          "name": "stdout",
          "text": [
            "[[0, Pure, 'B-BRAND'], [0, Paw, 'I-BRAND'], [0, Paw, 'I-BRAND'], [0, бальзам, 'O'], [0, с, 'O'], [0, ароматом, 'O'], [0, клубники, 'O']]\n"
          ]
        }
      ]
    },
    {
      "cell_type": "code",
      "source": [
        "tags = []\n",
        "ind = 0\n",
        "nlp = spacy.load('ru_core_news_lg', disable=['ner', 'parser', 'tok2vec', 'attribute_ruler', 'morphologizer'])\n",
        "ds.progress_apply(lambda x: make_tags(x['name'], x['brand']), axis = 1)"
      ],
      "metadata": {
        "id": "XsajF5IwSnBt"
      },
      "execution_count": null,
      "outputs": []
    },
    {
      "cell_type": "code",
      "source": [
        "ds_IOB2 = pd.DataFrame(tags, columns = ['sent_id', 'token', 'label'])"
      ],
      "metadata": {
        "id": "B7YK_5I7VnVI"
      },
      "execution_count": null,
      "outputs": []
    },
    {
      "cell_type": "code",
      "source": [
        "ds_IOB2"
      ],
      "metadata": {
        "id": "EiVwQEZseMKS",
        "colab": {
          "base_uri": "https://localhost:8080/",
          "height": 424
        },
        "outputId": "33e4d7a3-0221-4e6d-a0e5-dabf81f7bc61"
      },
      "execution_count": null,
      "outputs": [
        {
          "output_type": "execute_result",
          "data": {
            "text/plain": [
              "         sent_id        token    label\n",
              "0              0      Игровая        O\n",
              "1              0      консоль        O\n",
              "2              0  PlayStation  B-BRAND\n",
              "3              0            5        O\n",
              "4              0            ,        O\n",
              "...          ...          ...      ...\n",
              "1073593    81777           см        O\n",
              "1073594    81778        Трусы        O\n",
              "1073595    81778      женские        O\n",
              "1073596    81778       befree  B-BRAND\n",
              "1073597    81778   2116302102        O\n",
              "\n",
              "[1073598 rows x 3 columns]"
            ],
            "text/html": [
              "\n",
              "  <div id=\"df-f5ccce96-2696-4bc4-869e-39896bdaf558\">\n",
              "    <div class=\"colab-df-container\">\n",
              "      <div>\n",
              "<style scoped>\n",
              "    .dataframe tbody tr th:only-of-type {\n",
              "        vertical-align: middle;\n",
              "    }\n",
              "\n",
              "    .dataframe tbody tr th {\n",
              "        vertical-align: top;\n",
              "    }\n",
              "\n",
              "    .dataframe thead th {\n",
              "        text-align: right;\n",
              "    }\n",
              "</style>\n",
              "<table border=\"1\" class=\"dataframe\">\n",
              "  <thead>\n",
              "    <tr style=\"text-align: right;\">\n",
              "      <th></th>\n",
              "      <th>sent_id</th>\n",
              "      <th>token</th>\n",
              "      <th>label</th>\n",
              "    </tr>\n",
              "  </thead>\n",
              "  <tbody>\n",
              "    <tr>\n",
              "      <th>0</th>\n",
              "      <td>0</td>\n",
              "      <td>Игровая</td>\n",
              "      <td>O</td>\n",
              "    </tr>\n",
              "    <tr>\n",
              "      <th>1</th>\n",
              "      <td>0</td>\n",
              "      <td>консоль</td>\n",
              "      <td>O</td>\n",
              "    </tr>\n",
              "    <tr>\n",
              "      <th>2</th>\n",
              "      <td>0</td>\n",
              "      <td>PlayStation</td>\n",
              "      <td>B-BRAND</td>\n",
              "    </tr>\n",
              "    <tr>\n",
              "      <th>3</th>\n",
              "      <td>0</td>\n",
              "      <td>5</td>\n",
              "      <td>O</td>\n",
              "    </tr>\n",
              "    <tr>\n",
              "      <th>4</th>\n",
              "      <td>0</td>\n",
              "      <td>,</td>\n",
              "      <td>O</td>\n",
              "    </tr>\n",
              "    <tr>\n",
              "      <th>...</th>\n",
              "      <td>...</td>\n",
              "      <td>...</td>\n",
              "      <td>...</td>\n",
              "    </tr>\n",
              "    <tr>\n",
              "      <th>1073593</th>\n",
              "      <td>81777</td>\n",
              "      <td>см</td>\n",
              "      <td>O</td>\n",
              "    </tr>\n",
              "    <tr>\n",
              "      <th>1073594</th>\n",
              "      <td>81778</td>\n",
              "      <td>Трусы</td>\n",
              "      <td>O</td>\n",
              "    </tr>\n",
              "    <tr>\n",
              "      <th>1073595</th>\n",
              "      <td>81778</td>\n",
              "      <td>женские</td>\n",
              "      <td>O</td>\n",
              "    </tr>\n",
              "    <tr>\n",
              "      <th>1073596</th>\n",
              "      <td>81778</td>\n",
              "      <td>befree</td>\n",
              "      <td>B-BRAND</td>\n",
              "    </tr>\n",
              "    <tr>\n",
              "      <th>1073597</th>\n",
              "      <td>81778</td>\n",
              "      <td>2116302102</td>\n",
              "      <td>O</td>\n",
              "    </tr>\n",
              "  </tbody>\n",
              "</table>\n",
              "<p>1073598 rows × 3 columns</p>\n",
              "</div>\n",
              "      <button class=\"colab-df-convert\" onclick=\"convertToInteractive('df-f5ccce96-2696-4bc4-869e-39896bdaf558')\"\n",
              "              title=\"Convert this dataframe to an interactive table.\"\n",
              "              style=\"display:none;\">\n",
              "        \n",
              "  <svg xmlns=\"http://www.w3.org/2000/svg\" height=\"24px\"viewBox=\"0 0 24 24\"\n",
              "       width=\"24px\">\n",
              "    <path d=\"M0 0h24v24H0V0z\" fill=\"none\"/>\n",
              "    <path d=\"M18.56 5.44l.94 2.06.94-2.06 2.06-.94-2.06-.94-.94-2.06-.94 2.06-2.06.94zm-11 1L8.5 8.5l.94-2.06 2.06-.94-2.06-.94L8.5 2.5l-.94 2.06-2.06.94zm10 10l.94 2.06.94-2.06 2.06-.94-2.06-.94-.94-2.06-.94 2.06-2.06.94z\"/><path d=\"M17.41 7.96l-1.37-1.37c-.4-.4-.92-.59-1.43-.59-.52 0-1.04.2-1.43.59L10.3 9.45l-7.72 7.72c-.78.78-.78 2.05 0 2.83L4 21.41c.39.39.9.59 1.41.59.51 0 1.02-.2 1.41-.59l7.78-7.78 2.81-2.81c.8-.78.8-2.07 0-2.86zM5.41 20L4 18.59l7.72-7.72 1.47 1.35L5.41 20z\"/>\n",
              "  </svg>\n",
              "      </button>\n",
              "      \n",
              "  <style>\n",
              "    .colab-df-container {\n",
              "      display:flex;\n",
              "      flex-wrap:wrap;\n",
              "      gap: 12px;\n",
              "    }\n",
              "\n",
              "    .colab-df-convert {\n",
              "      background-color: #E8F0FE;\n",
              "      border: none;\n",
              "      border-radius: 50%;\n",
              "      cursor: pointer;\n",
              "      display: none;\n",
              "      fill: #1967D2;\n",
              "      height: 32px;\n",
              "      padding: 0 0 0 0;\n",
              "      width: 32px;\n",
              "    }\n",
              "\n",
              "    .colab-df-convert:hover {\n",
              "      background-color: #E2EBFA;\n",
              "      box-shadow: 0px 1px 2px rgba(60, 64, 67, 0.3), 0px 1px 3px 1px rgba(60, 64, 67, 0.15);\n",
              "      fill: #174EA6;\n",
              "    }\n",
              "\n",
              "    [theme=dark] .colab-df-convert {\n",
              "      background-color: #3B4455;\n",
              "      fill: #D2E3FC;\n",
              "    }\n",
              "\n",
              "    [theme=dark] .colab-df-convert:hover {\n",
              "      background-color: #434B5C;\n",
              "      box-shadow: 0px 1px 3px 1px rgba(0, 0, 0, 0.15);\n",
              "      filter: drop-shadow(0px 1px 2px rgba(0, 0, 0, 0.3));\n",
              "      fill: #FFFFFF;\n",
              "    }\n",
              "  </style>\n",
              "\n",
              "      <script>\n",
              "        const buttonEl =\n",
              "          document.querySelector('#df-f5ccce96-2696-4bc4-869e-39896bdaf558 button.colab-df-convert');\n",
              "        buttonEl.style.display =\n",
              "          google.colab.kernel.accessAllowed ? 'block' : 'none';\n",
              "\n",
              "        async function convertToInteractive(key) {\n",
              "          const element = document.querySelector('#df-f5ccce96-2696-4bc4-869e-39896bdaf558');\n",
              "          const dataTable =\n",
              "            await google.colab.kernel.invokeFunction('convertToInteractive',\n",
              "                                                     [key], {});\n",
              "          if (!dataTable) return;\n",
              "\n",
              "          const docLinkHtml = 'Like what you see? Visit the ' +\n",
              "            '<a target=\"_blank\" href=https://colab.research.google.com/notebooks/data_table.ipynb>data table notebook</a>'\n",
              "            + ' to learn more about interactive tables.';\n",
              "          element.innerHTML = '';\n",
              "          dataTable['output_type'] = 'display_data';\n",
              "          await google.colab.output.renderOutput(dataTable, element);\n",
              "          const docLink = document.createElement('div');\n",
              "          docLink.innerHTML = docLinkHtml;\n",
              "          element.appendChild(docLink);\n",
              "        }\n",
              "      </script>\n",
              "    </div>\n",
              "  </div>\n",
              "  "
            ]
          },
          "metadata": {},
          "execution_count": 23
        }
      ]
    },
    {
      "cell_type": "markdown",
      "source": [
        "Before we start training spacy, we need to convert the data into the format that spacy can understand. For that, we need BRAND start and end tokens for every sentence."
      ],
      "metadata": {
        "id": "fQ0kQeJu9OHu"
      }
    },
    {
      "cell_type": "code",
      "source": [
        "brand_indices = {}\n",
        "sents = ds_IOB2.groupby('sent_id')\n",
        "\n",
        "cnt = 0\n",
        "failed = []\n",
        "for sent_id, sent in tqdm(sents):\n",
        "  start, end = -1, -1\n",
        "  text_list = sent['token'].tolist()\n",
        "  labels = sent['label'].tolist()\n",
        "  for n, token in enumerate(text_list):\n",
        "    if labels[n][0] == 'B':\n",
        "      start = token.idx\n",
        "      if n == len(labels)-1 or labels[n+1][0] == 'O':\n",
        "        # brand name is only one word\n",
        "        end = token.idx + len(token)\n",
        "    elif labels[n][0] == 'I' and (\n",
        "         n == len(labels)-1 or labels[n+1][0] == 'O'\n",
        "         ):\n",
        "      # brand name is multiple words\n",
        "      end = token.idx + len(token)\n",
        "  if start != -1 and end != -1:\n",
        "    if len(ds.iloc[sent_id]['brand']) == end-start:\n",
        "      brand_indices[sent_id] = {'brand': ds.iloc[sent_id]['brand'], 'ind': [start, end]}\n",
        "    else:\n",
        "      cnt += 1\n",
        "      failed.append(sent_id)\n",
        "    # assert len(ds.iloc[sent_id]['brand']) == end-start, f\"{sent}, \\ntarget {ds.iloc[sent_id]['brand']}, ind {start}, {end}\""
      ],
      "metadata": {
        "id": "wqrHdkYL9NMY",
        "colab": {
          "base_uri": "https://localhost:8080/"
        },
        "outputId": "6206d308-54d7-4245-9926-438b87d76963"
      },
      "execution_count": null,
      "outputs": [
        {
          "output_type": "stream",
          "name": "stderr",
          "text": [
            "100%|██████████| 81779/81779 [00:28<00:00, 2853.18it/s]\n"
          ]
        }
      ]
    },
    {
      "cell_type": "code",
      "source": [
        "# number of sentences where we couldn't successfully locate brand name\n",
        "cnt"
      ],
      "metadata": {
        "colab": {
          "base_uri": "https://localhost:8080/"
        },
        "id": "Bv_AuJi99vtY",
        "outputId": "6db15f76-db51-4f9c-c96f-9a557f55a396"
      },
      "execution_count": null,
      "outputs": [
        {
          "output_type": "execute_result",
          "data": {
            "text/plain": [
              "30"
            ]
          },
          "metadata": {},
          "execution_count": 28
        }
      ]
    },
    {
      "cell_type": "code",
      "source": [
        "nlp = spacy.load('ru_core_news_lg', disable=['ner', 'parser', 'tok2vec', 'attribute_ruler', 'morphologizer'])"
      ],
      "metadata": {
        "id": "ENJTYhgUO6q5"
      },
      "execution_count": null,
      "outputs": []
    },
    {
      "cell_type": "code",
      "source": [
        "train, test = train_test_split(ds, test_size=0.2)\n",
        "print(train.shape, test.shape)\n",
        "train"
      ],
      "metadata": {
        "colab": {
          "base_uri": "https://localhost:8080/",
          "height": 441
        },
        "id": "HrhRW5QHi_a9",
        "outputId": "e61098af-7e29-49a5-d153-e9c2e3c96df8"
      },
      "execution_count": null,
      "outputs": [
        {
          "output_type": "stream",
          "name": "stdout",
          "text": [
            "(65423, 2) (16356, 2)\n"
          ]
        },
        {
          "output_type": "execute_result",
          "data": {
            "text/plain": [
              "                                                    name          brand\n",
              "70299                   СпивакЪ . Бельди Ягодное , 100 г        СпивакЪ\n",
              "64831                            Машина Кабриолет Barbie         Barbie\n",
              "14909  Портативная игровая консоль MyPads 4 . 3 - дюй...         MyPads\n",
              "17522  Электрический штопор и набор аксессуаров для в...         Xiaomi\n",
              "58139                                 Туфли T . TACCARDI   T . TACCARDI\n",
              "...                                                  ...            ...\n",
              "15305  Магнит плакат мотиватор на холодильник Правила...  Notta & Belle\n",
              "51381  Десертный соус топпинг Bounty Dessert Sauce ( ...         Bounty\n",
              "74644            Кулер для воды AEL 85C LD white / black            AEL\n",
              "75912         LEGO NINJAGO Конструктор Дракон Джея 70602           LEGO\n",
              "65083  Корм сухой Perfect Fit \" Sterile \" для кастрир...    Perfect Fit\n",
              "\n",
              "[65423 rows x 2 columns]"
            ],
            "text/html": [
              "\n",
              "  <div id=\"df-cfe1a8de-d55b-4c2f-9ebd-c6647fb6051b\">\n",
              "    <div class=\"colab-df-container\">\n",
              "      <div>\n",
              "<style scoped>\n",
              "    .dataframe tbody tr th:only-of-type {\n",
              "        vertical-align: middle;\n",
              "    }\n",
              "\n",
              "    .dataframe tbody tr th {\n",
              "        vertical-align: top;\n",
              "    }\n",
              "\n",
              "    .dataframe thead th {\n",
              "        text-align: right;\n",
              "    }\n",
              "</style>\n",
              "<table border=\"1\" class=\"dataframe\">\n",
              "  <thead>\n",
              "    <tr style=\"text-align: right;\">\n",
              "      <th></th>\n",
              "      <th>name</th>\n",
              "      <th>brand</th>\n",
              "    </tr>\n",
              "  </thead>\n",
              "  <tbody>\n",
              "    <tr>\n",
              "      <th>70299</th>\n",
              "      <td>СпивакЪ . Бельди Ягодное , 100 г</td>\n",
              "      <td>СпивакЪ</td>\n",
              "    </tr>\n",
              "    <tr>\n",
              "      <th>64831</th>\n",
              "      <td>Машина Кабриолет Barbie</td>\n",
              "      <td>Barbie</td>\n",
              "    </tr>\n",
              "    <tr>\n",
              "      <th>14909</th>\n",
              "      <td>Портативная игровая консоль MyPads 4 . 3 - дюй...</td>\n",
              "      <td>MyPads</td>\n",
              "    </tr>\n",
              "    <tr>\n",
              "      <th>17522</th>\n",
              "      <td>Электрический штопор и набор аксессуаров для в...</td>\n",
              "      <td>Xiaomi</td>\n",
              "    </tr>\n",
              "    <tr>\n",
              "      <th>58139</th>\n",
              "      <td>Туфли T . TACCARDI</td>\n",
              "      <td>T . TACCARDI</td>\n",
              "    </tr>\n",
              "    <tr>\n",
              "      <th>...</th>\n",
              "      <td>...</td>\n",
              "      <td>...</td>\n",
              "    </tr>\n",
              "    <tr>\n",
              "      <th>15305</th>\n",
              "      <td>Магнит плакат мотиватор на холодильник Правила...</td>\n",
              "      <td>Notta &amp; Belle</td>\n",
              "    </tr>\n",
              "    <tr>\n",
              "      <th>51381</th>\n",
              "      <td>Десертный соус топпинг Bounty Dessert Sauce ( ...</td>\n",
              "      <td>Bounty</td>\n",
              "    </tr>\n",
              "    <tr>\n",
              "      <th>74644</th>\n",
              "      <td>Кулер для воды AEL 85C LD white / black</td>\n",
              "      <td>AEL</td>\n",
              "    </tr>\n",
              "    <tr>\n",
              "      <th>75912</th>\n",
              "      <td>LEGO NINJAGO Конструктор Дракон Джея 70602</td>\n",
              "      <td>LEGO</td>\n",
              "    </tr>\n",
              "    <tr>\n",
              "      <th>65083</th>\n",
              "      <td>Корм сухой Perfect Fit \" Sterile \" для кастрир...</td>\n",
              "      <td>Perfect Fit</td>\n",
              "    </tr>\n",
              "  </tbody>\n",
              "</table>\n",
              "<p>65423 rows × 2 columns</p>\n",
              "</div>\n",
              "      <button class=\"colab-df-convert\" onclick=\"convertToInteractive('df-cfe1a8de-d55b-4c2f-9ebd-c6647fb6051b')\"\n",
              "              title=\"Convert this dataframe to an interactive table.\"\n",
              "              style=\"display:none;\">\n",
              "        \n",
              "  <svg xmlns=\"http://www.w3.org/2000/svg\" height=\"24px\"viewBox=\"0 0 24 24\"\n",
              "       width=\"24px\">\n",
              "    <path d=\"M0 0h24v24H0V0z\" fill=\"none\"/>\n",
              "    <path d=\"M18.56 5.44l.94 2.06.94-2.06 2.06-.94-2.06-.94-.94-2.06-.94 2.06-2.06.94zm-11 1L8.5 8.5l.94-2.06 2.06-.94-2.06-.94L8.5 2.5l-.94 2.06-2.06.94zm10 10l.94 2.06.94-2.06 2.06-.94-2.06-.94-.94-2.06-.94 2.06-2.06.94z\"/><path d=\"M17.41 7.96l-1.37-1.37c-.4-.4-.92-.59-1.43-.59-.52 0-1.04.2-1.43.59L10.3 9.45l-7.72 7.72c-.78.78-.78 2.05 0 2.83L4 21.41c.39.39.9.59 1.41.59.51 0 1.02-.2 1.41-.59l7.78-7.78 2.81-2.81c.8-.78.8-2.07 0-2.86zM5.41 20L4 18.59l7.72-7.72 1.47 1.35L5.41 20z\"/>\n",
              "  </svg>\n",
              "      </button>\n",
              "      \n",
              "  <style>\n",
              "    .colab-df-container {\n",
              "      display:flex;\n",
              "      flex-wrap:wrap;\n",
              "      gap: 12px;\n",
              "    }\n",
              "\n",
              "    .colab-df-convert {\n",
              "      background-color: #E8F0FE;\n",
              "      border: none;\n",
              "      border-radius: 50%;\n",
              "      cursor: pointer;\n",
              "      display: none;\n",
              "      fill: #1967D2;\n",
              "      height: 32px;\n",
              "      padding: 0 0 0 0;\n",
              "      width: 32px;\n",
              "    }\n",
              "\n",
              "    .colab-df-convert:hover {\n",
              "      background-color: #E2EBFA;\n",
              "      box-shadow: 0px 1px 2px rgba(60, 64, 67, 0.3), 0px 1px 3px 1px rgba(60, 64, 67, 0.15);\n",
              "      fill: #174EA6;\n",
              "    }\n",
              "\n",
              "    [theme=dark] .colab-df-convert {\n",
              "      background-color: #3B4455;\n",
              "      fill: #D2E3FC;\n",
              "    }\n",
              "\n",
              "    [theme=dark] .colab-df-convert:hover {\n",
              "      background-color: #434B5C;\n",
              "      box-shadow: 0px 1px 3px 1px rgba(0, 0, 0, 0.15);\n",
              "      filter: drop-shadow(0px 1px 2px rgba(0, 0, 0, 0.3));\n",
              "      fill: #FFFFFF;\n",
              "    }\n",
              "  </style>\n",
              "\n",
              "      <script>\n",
              "        const buttonEl =\n",
              "          document.querySelector('#df-cfe1a8de-d55b-4c2f-9ebd-c6647fb6051b button.colab-df-convert');\n",
              "        buttonEl.style.display =\n",
              "          google.colab.kernel.accessAllowed ? 'block' : 'none';\n",
              "\n",
              "        async function convertToInteractive(key) {\n",
              "          const element = document.querySelector('#df-cfe1a8de-d55b-4c2f-9ebd-c6647fb6051b');\n",
              "          const dataTable =\n",
              "            await google.colab.kernel.invokeFunction('convertToInteractive',\n",
              "                                                     [key], {});\n",
              "          if (!dataTable) return;\n",
              "\n",
              "          const docLinkHtml = 'Like what you see? Visit the ' +\n",
              "            '<a target=\"_blank\" href=https://colab.research.google.com/notebooks/data_table.ipynb>data table notebook</a>'\n",
              "            + ' to learn more about interactive tables.';\n",
              "          element.innerHTML = '';\n",
              "          dataTable['output_type'] = 'display_data';\n",
              "          await google.colab.output.renderOutput(dataTable, element);\n",
              "          const docLink = document.createElement('div');\n",
              "          docLink.innerHTML = docLinkHtml;\n",
              "          element.appendChild(docLink);\n",
              "        }\n",
              "      </script>\n",
              "    </div>\n",
              "  </div>\n",
              "  "
            ]
          },
          "metadata": {},
          "execution_count": 30
        }
      ]
    },
    {
      "cell_type": "markdown",
      "source": [
        "Now for every sentence in _train_ and _test_ let's find its start/end tokens!"
      ],
      "metadata": {
        "id": "MSDA4mqfqXtn"
      }
    },
    {
      "cell_type": "code",
      "source": [
        "db = spacy.tokens.DocBin()\n",
        "train_id = train.index\n",
        "\n",
        "for idx in tqdm(train_id):\n",
        "  if idx in brand_indices.keys():\n",
        "    doc = nlp(train.loc[train.index == idx]['name'].tolist()[0])\n",
        "    ents = []\n",
        "    start, end = brand_indices[idx]['ind']\n",
        "    span = doc.char_span(start, end, label='BRAND')\n",
        "    ents.append(span)\n",
        "    doc.ents = ents\n",
        "    db.add(doc)"
      ],
      "metadata": {
        "colab": {
          "base_uri": "https://localhost:8080/"
        },
        "id": "0kEoEB_rweQn",
        "outputId": "e5b4a3fe-931a-4718-bae8-aa3eb9071698"
      },
      "execution_count": null,
      "outputs": [
        {
          "output_type": "stream",
          "name": "stderr",
          "text": [
            "100%|██████████| 65423/65423 [03:51<00:00, 282.45it/s]\n"
          ]
        }
      ]
    },
    {
      "cell_type": "code",
      "source": [
        "db.to_disk('./train.spacy')"
      ],
      "metadata": {
        "id": "bxCNMj742Snl"
      },
      "execution_count": null,
      "outputs": []
    },
    {
      "cell_type": "code",
      "source": [
        "db = spacy.tokens.DocBin()\n",
        "test_id = test.index\n",
        "\n",
        "for idx in tqdm(test_id):\n",
        "  if idx in brand_indices.keys():\n",
        "    doc = nlp(test.loc[test.index == idx]['name'].tolist()[0])\n",
        "    ents = []\n",
        "    start, end = brand_indices[idx]['ind']\n",
        "    span = doc.char_span(start, end, label='BRAND')\n",
        "    ents.append(span)\n",
        "    doc.ents = ents\n",
        "    db.add(doc)"
      ],
      "metadata": {
        "colab": {
          "base_uri": "https://localhost:8080/"
        },
        "id": "r4Os7vIf55Qn",
        "outputId": "f567d50e-1356-4a9d-a7b1-e36ef88cc520"
      },
      "execution_count": null,
      "outputs": [
        {
          "output_type": "stream",
          "name": "stderr",
          "text": [
            "100%|██████████| 16356/16356 [00:55<00:00, 295.68it/s]\n"
          ]
        }
      ]
    },
    {
      "cell_type": "code",
      "source": [
        "db.to_disk('./test.spacy')"
      ],
      "metadata": {
        "id": "Jm2vzvPR6NmF"
      },
      "execution_count": null,
      "outputs": []
    },
    {
      "cell_type": "markdown",
      "source": [
        ".spacy is the format that spacy will look for when training its model. We're almost ready to start training."
      ],
      "metadata": {
        "id": "pGJ9ZOLlznu4"
      }
    },
    {
      "cell_type": "markdown",
      "source": [
        "Let's creat custom embeddings with gensim."
      ],
      "metadata": {
        "id": "Zhz0ZJ7m9r-f"
      }
    },
    {
      "cell_type": "code",
      "source": [
        "!pip install gensim --upgrade\n",
        "\n",
        "import gensim"
      ],
      "metadata": {
        "id": "ZGuh8tIX9s9r"
      },
      "execution_count": null,
      "outputs": []
    },
    {
      "cell_type": "code",
      "source": [
        "titles = ds['name'].tolist()\n",
        "sequences = list(map(lambda x: x.split(), titles))"
      ],
      "metadata": {
        "id": "5oG6azhI-AVj"
      },
      "execution_count": null,
      "outputs": []
    },
    {
      "cell_type": "code",
      "source": [
        "model = gensim.models.Word2Vec(sequences, min_count=2, vector_size=200, epochs=10)"
      ],
      "metadata": {
        "id": "3r-iXjeC-IQn"
      },
      "execution_count": null,
      "outputs": []
    },
    {
      "cell_type": "code",
      "source": [
        "model.wv.most_similar('детская')"
      ],
      "metadata": {
        "colab": {
          "base_uri": "https://localhost:8080/"
        },
        "id": "71-voxm5-Mq2",
        "outputId": "35621792-039c-4b9c-bfdc-623adc26f1bf"
      },
      "execution_count": null,
      "outputs": [
        {
          "output_type": "execute_result",
          "data": {
            "text/plain": [
              "[('Кроватка', 0.7732728719711304),\n",
              " ('Горка', 0.7556986212730408),\n",
              " ('Шапочка', 0.7531970143318176),\n",
              " ('кроватка', 0.7494092583656311),\n",
              " ('Каталка', 0.748365581035614),\n",
              " ('Koala', 0.7479047775268555),\n",
              " ('RH301', 0.7405040860176086),\n",
              " ('Детская', 0.7387740015983582),\n",
              " ('KIDS', 0.733460545539856),\n",
              " ('Itikka', 0.7307717204093933)]"
            ]
          },
          "metadata": {},
          "execution_count": 39
        }
      ]
    },
    {
      "cell_type": "code",
      "source": [
        "model.wv.most_similar('кроватка')"
      ],
      "metadata": {
        "colab": {
          "base_uri": "https://localhost:8080/"
        },
        "id": "Xm6-kWTvjpuh",
        "outputId": "f3b23bee-673a-4c5f-eeb7-c160be974918"
      },
      "execution_count": null,
      "outputs": [
        {
          "output_type": "execute_result",
          "data": {
            "text/plain": [
              "[('Woodlines', 0.89400315284729),\n",
              " ('Кроватка', 0.890350341796875),\n",
              " ('Bonne', 0.8860921263694763),\n",
              " ('приставная', 0.8818628787994385),\n",
              " ('Menthol', 0.8629642724990845),\n",
              " ('VDK', 0.8626813888549805),\n",
              " ('ванна', 0.8592925667762756),\n",
              " ('Boom', 0.8585990071296692),\n",
              " ('Buggy', 0.8571462035179138),\n",
              " ('Clouds', 0.8517149686813354)]"
            ]
          },
          "metadata": {},
          "execution_count": 40
        }
      ]
    },
    {
      "cell_type": "code",
      "source": [
        "model.wv.similarity('Apple','Samsung')"
      ],
      "metadata": {
        "colab": {
          "base_uri": "https://localhost:8080/"
        },
        "id": "0bY4Z1fp-rNd",
        "outputId": "cf511cc5-b7a8-4bd2-b65a-123b0418d27c"
      },
      "execution_count": null,
      "outputs": [
        {
          "output_type": "execute_result",
          "data": {
            "text/plain": [
              "0.77490693"
            ]
          },
          "metadata": {},
          "execution_count": 41
        }
      ]
    },
    {
      "cell_type": "code",
      "source": [
        "model.wv.save_word2vec_format('embeddings.txt', binary=False)"
      ],
      "metadata": {
        "id": "sdTNiytf-_eW"
      },
      "execution_count": null,
      "outputs": []
    },
    {
      "cell_type": "markdown",
      "source": [
        "NOW we're ready to start training spacy. Initialize vectors."
      ],
      "metadata": {
        "id": "i9yRpCYoq2OR"
      }
    },
    {
      "cell_type": "code",
      "source": [
        "!python -m spacy init vectors ru embeddings.txt spacy_embeddings --name title_vectors"
      ],
      "metadata": {
        "colab": {
          "base_uri": "https://localhost:8080/"
        },
        "id": "pmQw3iuY_Gg_",
        "outputId": "5e47f523-da97-422c-9b33-9d17adee6bd0"
      },
      "execution_count": null,
      "outputs": [
        {
          "output_type": "stream",
          "name": "stdout",
          "text": [
            "/usr/local/lib/python3.9/dist-packages/torch/cuda/__init__.py:497: UserWarning: Can't initialize NVML\n",
            "  warnings.warn(\"Can't initialize NVML\")\n",
            "2023-03-23 17:46:09.945834: W tensorflow/compiler/xla/stream_executor/platform/default/dso_loader.cc:64] Could not load dynamic library 'libnvinfer.so.7'; dlerror: libnvinfer.so.7: cannot open shared object file: No such file or directory; LD_LIBRARY_PATH: /usr/local/nvidia/lib:/usr/local/nvidia/lib64\n",
            "2023-03-23 17:46:09.946049: W tensorflow/compiler/xla/stream_executor/platform/default/dso_loader.cc:64] Could not load dynamic library 'libnvinfer_plugin.so.7'; dlerror: libnvinfer_plugin.so.7: cannot open shared object file: No such file or directory; LD_LIBRARY_PATH: /usr/local/nvidia/lib:/usr/local/nvidia/lib64\n",
            "2023-03-23 17:46:09.946074: W tensorflow/compiler/tf2tensorrt/utils/py_utils.cc:38] TF-TRT Warning: Cannot dlopen some TensorRT libraries. If you would like to use Nvidia GPU with TensorRT, please make sure the missing libraries mentioned above are installed properly.\n",
            "2023-03-23 17:46:12.262772: E tensorflow/compiler/xla/stream_executor/cuda/cuda_driver.cc:267] failed call to cuInit: CUDA_ERROR_NO_DEVICE: no CUDA-capable device is detected\n",
            "\u001b[38;5;4mℹ Creating blank nlp object for language 'ru'\u001b[0m\n",
            "[2023-03-23 17:46:13,265] [INFO] Reading vectors from embeddings.txt\n",
            "42772it [00:02, 18372.05it/s]\n",
            "[2023-03-23 17:46:15,599] [INFO] Loaded vectors from embeddings.txt\n",
            "\u001b[38;5;2m✔ Successfully converted 42772 vectors\u001b[0m\n",
            "\u001b[38;5;2m✔ Saved nlp object with vectors to output directory. You can now use\n",
            "the path to it in your config as the 'vectors' setting in [initialize].\u001b[0m\n",
            "/content/spacy_embeddings\n"
          ]
        }
      ]
    },
    {
      "cell_type": "code",
      "source": [
        "nlp = spacy.load('spacy_embeddings')\n",
        "nlp.add_pipe('ner')\n",
        "nlp.to_disk('spacy_embeddings')"
      ],
      "metadata": {
        "id": "PWIByvdoBMlI"
      },
      "execution_count": null,
      "outputs": []
    },
    {
      "cell_type": "markdown",
      "source": [
        "At this point, spacy creates a 'spacy_embeddings' folder in the working directory -- find the config.cfg file in it and tweak some arguments, if you want to. We changed the default learning rate to 0.0001."
      ],
      "metadata": {
        "id": "vC8Xa-1ZDWk_"
      }
    },
    {
      "cell_type": "code",
      "source": [
        "!python -m spacy train spacy_embeddings/config.cfg --output spacy_model --paths.train train.spacy --paths.dev test.spacy"
      ],
      "metadata": {
        "colab": {
          "base_uri": "https://localhost:8080/"
        },
        "id": "B6Kdd0SaBVid",
        "outputId": "63efc1b5-d719-4942-da36-871d5e3f5aee"
      },
      "execution_count": null,
      "outputs": [
        {
          "output_type": "stream",
          "name": "stdout",
          "text": [
            "/usr/local/lib/python3.9/dist-packages/torch/cuda/__init__.py:497: UserWarning: Can't initialize NVML\n",
            "  warnings.warn(\"Can't initialize NVML\")\n",
            "2023-03-23 18:46:52.878486: W tensorflow/compiler/xla/stream_executor/platform/default/dso_loader.cc:64] Could not load dynamic library 'libnvinfer.so.7'; dlerror: libnvinfer.so.7: cannot open shared object file: No such file or directory; LD_LIBRARY_PATH: /usr/local/nvidia/lib:/usr/local/nvidia/lib64\n",
            "2023-03-23 18:46:52.878608: W tensorflow/compiler/xla/stream_executor/platform/default/dso_loader.cc:64] Could not load dynamic library 'libnvinfer_plugin.so.7'; dlerror: libnvinfer_plugin.so.7: cannot open shared object file: No such file or directory; LD_LIBRARY_PATH: /usr/local/nvidia/lib:/usr/local/nvidia/lib64\n",
            "2023-03-23 18:46:52.878633: W tensorflow/compiler/tf2tensorrt/utils/py_utils.cc:38] TF-TRT Warning: Cannot dlopen some TensorRT libraries. If you would like to use Nvidia GPU with TensorRT, please make sure the missing libraries mentioned above are installed properly.\n",
            "2023-03-23 18:46:54.904014: E tensorflow/compiler/xla/stream_executor/cuda/cuda_driver.cc:267] failed call to cuInit: CUDA_ERROR_NO_DEVICE: no CUDA-capable device is detected\n",
            "\u001b[38;5;4mℹ Saving to output directory: spacy_model\u001b[0m\n",
            "\u001b[38;5;4mℹ Using CPU\u001b[0m\n",
            "\u001b[1m\n",
            "=========================== Initializing pipeline ===========================\u001b[0m\n",
            "[2023-03-23 18:46:55,724] [INFO] Set up nlp object from config\n",
            "[2023-03-23 18:46:55,741] [INFO] Pipeline: ['ner']\n",
            "[2023-03-23 18:46:55,745] [INFO] Created vocabulary\n",
            "[2023-03-23 18:46:55,746] [INFO] Finished initializing nlp object\n",
            "[2023-03-23 18:47:17,964] [INFO] Initialized pipeline components: ['ner']\n",
            "\u001b[38;5;2m✔ Initialized pipeline\u001b[0m\n",
            "\u001b[1m\n",
            "============================= Training pipeline =============================\u001b[0m\n",
            "\u001b[38;5;4mℹ Pipeline: ['ner']\u001b[0m\n",
            "\u001b[38;5;4mℹ Initial learn rate: 0.0001\u001b[0m\n",
            "E    #       LOSS NER  ENTS_F  ENTS_P  ENTS_R  SCORE \n",
            "---  ------  --------  ------  ------  ------  ------\n",
            "  0       0     44.50    0.00    0.00    0.00    0.00\n",
            "  0     500   9665.86   52.24   60.11   46.20    0.52\n",
            "  0    1000   7397.94   61.64   59.29   64.17    0.62\n",
            "  0    1500   9620.35   76.80   77.54   76.07    0.77\n",
            "  0    2000  11613.31   82.80   82.70   82.90    0.83\n",
            "  1    2500  14754.87   86.45   86.99   85.92    0.86\n",
            "  1    3000  13657.01   88.32   88.02   88.62    0.88\n",
            "  2    3500  11765.11   89.16   88.09   90.25    0.89\n",
            "  2    4000  10816.06   90.37   89.95   90.79    0.90\n",
            "  3    4500   9411.31   91.23   91.01   91.45    0.91\n",
            "  4    5000   8827.40   91.67   91.30   92.04    0.92\n",
            "  4    5500   8013.87   92.05   91.85   92.26    0.92\n",
            "  5    6000   7334.93   92.43   91.91   92.95    0.92\n",
            "  5    6500   7080.53   92.64   91.51   93.80    0.93\n",
            "  6    7000   6521.28   93.07   92.47   93.67    0.93\n",
            "  7    7500   6273.05   93.13   92.42   93.85    0.93\n",
            "  7    8000   5773.76   93.47   93.05   93.90    0.93\n",
            "  8    8500   5442.63   93.59   92.67   94.52    0.94\n",
            "  8    9000   5207.38   93.75   93.02   94.49    0.94\n",
            "  9    9500   5000.36   93.94   93.40   94.49    0.94\n",
            "  9   10000   4745.26   94.05   93.24   94.87    0.94\n",
            " 10   10500   4321.53   94.06   93.24   94.90    0.94\n",
            " 11   11000   4431.27   94.20   93.87   94.53    0.94\n",
            " 11   11500   3890.65   94.33   93.77   94.89    0.94\n",
            " 12   12000   3990.85   94.27   93.57   94.98    0.94\n",
            " 12   12500   3701.49   94.32   94.22   94.41    0.94\n",
            " 13   13000   3552.63   94.36   93.57   95.16    0.94\n",
            " 13   13500   3462.58   94.46   93.89   95.03    0.94\n",
            " 14   14000   3329.53   94.56   94.09   95.04    0.95\n",
            "\u001b[38;5;2m✔ Saved pipeline to output directory\u001b[0m\n",
            "spacy_model/model-last\n"
          ]
        }
      ]
    },
    {
      "cell_type": "code",
      "source": [
        "fin = spacy.load('spacy_model/model-best')"
      ],
      "metadata": {
        "id": "BhANqm_nV711"
      },
      "execution_count": null,
      "outputs": []
    },
    {
      "cell_type": "code",
      "source": [
        "test_sentences = [\"Крем для рук Чистая линия\",\n",
        "                  \"Крем для рук чистая линия\",\n",
        "                  \"Чистая линия крем для рук\",\n",
        "\n",
        "                  \"Блендер '6 в 1' Kitfort КТ-3078, 2 скорости и импульсный режим, для взбивания, смешивания и колки льда\",\n",
        "                  \"Ноутбук Lenovo ThinkPad E14 Gen 2 (20TA002JRT)\",\n",
        "                  \"Organic Shop Organic Hand Soap мыло для рук\",\n",
        "                  \"Minimal!st Серьги\",\n",
        "                  \"Шоколадные конфеты Snickers Minis Белый, 2.9 кг / белый шоколад, нуга, карамель, арахис, шоколад\", \n",
        "\n",
        "                  \"Сок Добрый Апельсин\",\n",
        "                  \"кровать-тумба раскладная \\\"Карина\\\", цвет орех Удачная Мебель\",\n",
        "                  \"Дезодорант мужской Деоника Антиперспирант PROpharma Active men, спрей - 150 мл\",\n",
        "                  \"Умная колонка Яндекс Станция Мини без часов с голосовым помощником Алиса, черный оникс, 10Вт\",\n",
        "                  \"Ортопедическая подушка с эффектом памяти 60х40х11/13 см \\\"Просто Подушка\\\" №9 валики мягкая\",\n",
        "                  \"Кольцо из золота с фианитами яхонт Ювелирный Арт. 240091\" ,\n",
        "\n",
        "                  \"Пастила Белёвская классическая без сахара Зелёная Линия, 100г\",\n",
        "                  \"Пицца 4 сыра Маркет Перекрёсток, 350г\",\n",
        "                  \n",
        "                  \"Туфли Мэри Джейн Marco Tozzi, размер 41, черный\",\n",
        "                  \"Туфли Mary Jane Marco Tozzi, размер 41, черный\",\n",
        "                  \"Туфли Мэри Джейн Марко Тоцци, размер 41, черный\",\n",
        "                  \"Туфли MARY JANE MARCO TOZZI, размер 41, черный\",\n",
        "                  \"Туфли MARY JANE Marco Tozzi, размер 41, черный\",\n",
        "                  \"Туфли Mary Jane MARCO TOZZI, размер 41, черный\",]\n",
        "                  \n",
        "for sent in test_sentences:\n",
        "  print(sent)\n",
        "  sent = sub(r\"\\s{2,}\", \" \", sub(f'([{punctuation}]) ?', r\" \\1 \", sent)).strip()\n",
        "  doc = fin(sent)\n",
        "  for ent in doc.ents:\n",
        "      print(ent.text,\" : \", ent.label_)\n",
        "  print('\\n')"
      ],
      "metadata": {
        "colab": {
          "base_uri": "https://localhost:8080/"
        },
        "id": "hvGuEaKzd1Sn",
        "outputId": "74cea4e3-931c-4446-a5da-b123de891e52"
      },
      "execution_count": null,
      "outputs": [
        {
          "output_type": "stream",
          "name": "stdout",
          "text": [
            "Крем для рук Чистая линия\n",
            "Чистая линия  :  BRAND\n",
            "\n",
            "\n",
            "Крем для рук чистая линия\n",
            "\n",
            "\n",
            "Чистая линия крем для рук\n",
            "Чистая линия  :  BRAND\n",
            "\n",
            "\n",
            "Блендер '6 в 1' Kitfort КТ-3078, 2 скорости и импульсный режим, для взбивания, смешивания и колки льда\n",
            "Kitfort  :  BRAND\n",
            "\n",
            "\n",
            "Ноутбук Lenovo ThinkPad E14 Gen 2 (20TA002JRT)\n",
            "Lenovo  :  BRAND\n",
            "\n",
            "\n",
            "Organic Shop Organic Hand Soap мыло для рук\n",
            "Organic Shop  :  BRAND\n",
            "\n",
            "\n",
            "Minimal!st Серьги\n",
            "Minimal ! st  :  BRAND\n",
            "\n",
            "\n",
            "Шоколадные конфеты Snickers Minis Белый, 2.9 кг / белый шоколад, нуга, карамель, арахис, шоколад\n",
            "Snickers  :  BRAND\n",
            "\n",
            "\n",
            "Сок Добрый Апельсин\n",
            "\n",
            "\n",
            "кровать-тумба раскладная \"Карина\", цвет орех Удачная Мебель\n",
            "Удачная Мебель  :  BRAND\n",
            "\n",
            "\n",
            "Дезодорант мужской Деоника Антиперспирант PROpharma Active men, спрей - 150 мл\n",
            "Деоника  :  BRAND\n",
            "\n",
            "\n",
            "Умная колонка Яндекс Станция Мини без часов с голосовым помощником Алиса, черный оникс, 10Вт\n",
            "Яндекс  :  BRAND\n",
            "\n",
            "\n",
            "Ортопедическая подушка с эффектом памяти 60х40х11/13 см \"Просто Подушка\" №9 валики мягкая\n",
            "\n",
            "\n",
            "Кольцо из золота с фианитами яхонт Ювелирный Арт. 240091\n",
            "Ювелирный Арт  :  BRAND\n",
            "\n",
            "\n",
            "Пастила Белёвская классическая без сахара Зелёная Линия, 100г\n",
            "Белёвская классическая  :  BRAND\n",
            "Зелёная Линия  :  BRAND\n",
            "\n",
            "\n",
            "Пицца 4 сыра Маркет Перекрёсток, 350г\n",
            "\n",
            "\n",
            "Туфли Мэри Джейн Marco Tozzi, размер 41, черный\n",
            "Marco Tozzi  :  BRAND\n",
            "\n",
            "\n",
            "Туфли Mary Jane Marco Tozzi, размер 41, черный\n",
            "Mary Jane  :  BRAND\n",
            "\n",
            "\n",
            "Туфли Мэри Джейн Марко Тоцци, размер 41, черный\n",
            "\n",
            "\n",
            "Туфли MARY JANE MARCO TOZZI, размер 41, черный\n",
            "MARY  :  BRAND\n",
            "\n",
            "\n",
            "Туфли MARY JANE Marco Tozzi, размер 41, черный\n",
            "MARY  :  BRAND\n",
            "\n",
            "\n",
            "Туфли Mary Jane MARCO TOZZI, размер 41, черный\n",
            "Mary Jane  :  BRAND\n",
            "\n",
            "\n"
          ]
        }
      ]
    },
    {
      "cell_type": "code",
      "source": [
        "!zip -r /content/spacy_model.zip /content/spacy_model"
      ],
      "metadata": {
        "colab": {
          "base_uri": "https://localhost:8080/"
        },
        "id": "PunWjKJo2-X9",
        "outputId": "d0e6cb66-135d-4cdc-ac1f-dbbaa1f46ced"
      },
      "execution_count": null,
      "outputs": [
        {
          "output_type": "stream",
          "name": "stdout",
          "text": [
            "  adding: content/spacy_model/ (stored 0%)\n",
            "  adding: content/spacy_model/model-last/ (stored 0%)\n",
            "  adding: content/spacy_model/model-last/meta.json (deflated 54%)\n",
            "  adding: content/spacy_model/model-last/vocab/ (stored 0%)\n",
            "  adding: content/spacy_model/model-last/vocab/lookups.bin (stored 0%)\n",
            "  adding: content/spacy_model/model-last/vocab/vectors.cfg (stored 0%)\n",
            "  adding: content/spacy_model/model-last/vocab/vectors (deflated 45%)\n",
            "  adding: content/spacy_model/model-last/vocab/strings.json (deflated 86%)\n",
            "  adding: content/spacy_model/model-last/vocab/key2row (stored 0%)\n",
            "  adding: content/spacy_model/model-last/config.cfg (deflated 59%)\n",
            "  adding: content/spacy_model/model-last/tokenizer (deflated 84%)\n",
            "  adding: content/spacy_model/model-last/ner/ (stored 0%)\n",
            "  adding: content/spacy_model/model-last/ner/model (deflated 8%)\n",
            "  adding: content/spacy_model/model-last/ner/moves (deflated 42%)\n",
            "  adding: content/spacy_model/model-last/ner/cfg (deflated 33%)\n",
            "  adding: content/spacy_model/model-best/ (stored 0%)\n",
            "  adding: content/spacy_model/model-best/meta.json (deflated 55%)\n",
            "  adding: content/spacy_model/model-best/vocab/ (stored 0%)\n",
            "  adding: content/spacy_model/model-best/vocab/lookups.bin (stored 0%)\n",
            "  adding: content/spacy_model/model-best/vocab/vectors.cfg (stored 0%)\n",
            "  adding: content/spacy_model/model-best/vocab/vectors (deflated 45%)\n",
            "  adding: content/spacy_model/model-best/vocab/strings.json (deflated 86%)\n",
            "  adding: content/spacy_model/model-best/vocab/key2row (stored 0%)\n",
            "  adding: content/spacy_model/model-best/config.cfg (deflated 59%)\n",
            "  adding: content/spacy_model/model-best/tokenizer (deflated 84%)\n",
            "  adding: content/spacy_model/model-best/ner/ (stored 0%)\n",
            "  adding: content/spacy_model/model-best/ner/model (deflated 8%)\n",
            "  adding: content/spacy_model/model-best/ner/moves (deflated 42%)\n",
            "  adding: content/spacy_model/model-best/ner/cfg (deflated 33%)\n"
          ]
        }
      ]
    }
  ]
}